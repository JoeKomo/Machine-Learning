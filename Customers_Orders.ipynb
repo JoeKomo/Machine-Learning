{
  "cells": [
    {
      "cell_type": "markdown",
      "metadata": {
        "id": "view-in-github",
        "colab_type": "text"
      },
      "source": [
        "<a href=\"https://colab.research.google.com/github/JoeKomo/Machine-Learning/blob/main/Customers_Orders.ipynb\" target=\"_parent\"><img src=\"https://colab.research.google.com/assets/colab-badge.svg\" alt=\"Open In Colab\"/></a>"
      ]
    },
    {
      "cell_type": "code",
      "source": [
        "pip install neattext"
      ],
      "metadata": {
        "colab": {
          "base_uri": "https://localhost:8080/"
        },
        "id": "s2FmfLeRNRzJ",
        "outputId": "3f9e7a72-f590-4405-e411-d769d2e1d835"
      },
      "id": "s2FmfLeRNRzJ",
      "execution_count": null,
      "outputs": [
        {
          "output_type": "stream",
          "name": "stdout",
          "text": [
            "Looking in indexes: https://pypi.org/simple, https://us-python.pkg.dev/colab-wheels/public/simple/\n",
            "Collecting neattext\n",
            "  Downloading neattext-0.1.3-py3-none-any.whl (114 kB)\n",
            "\u001b[K     |████████████████████████████████| 114 kB 4.2 MB/s \n",
            "\u001b[?25hInstalling collected packages: neattext\n",
            "Successfully installed neattext-0.1.3\n"
          ]
        }
      ]
    },
    {
      "cell_type": "code",
      "execution_count": null,
      "id": "6bcfe79d",
      "metadata": {
        "id": "6bcfe79d"
      },
      "outputs": [],
      "source": [
        "#load EDA packages\n",
        "import numpy as np\n",
        "import pandas as pd\n",
        "# pip install neattext (if necessary)\n",
        "import neattext.functions as nfx\n",
        "#viz packages\n",
        "import matplotlib.pyplot as plt\n",
        "import seaborn as sns\n",
        "#ML packages\n",
        "from sklearn.linear_model import LogisticRegression\n",
        "from sklearn.naive_bayes import MultinomialNB\n",
        "from sklearn.tree import DecisionTreeClassifier\n",
        "from sklearn.ensemble import RandomForestClassifier\n",
        "from sklearn.feature_extraction.text import TfidfVectorizer\n",
        "# model selection \n",
        "from sklearn.model_selection import cross_val_score\n",
        "#WARNING\n",
        "import warnings\n",
        "warnings.filterwarnings('ignore')"
      ]
    },
    {
      "cell_type": "code",
      "source": [
        "from google.colab import drive\n",
        "drive.mount('/content/gdrive')\n"
      ],
      "metadata": {
        "colab": {
          "base_uri": "https://localhost:8080/"
        },
        "id": "ITBN8bwq127f",
        "outputId": "e6812c07-ee39-4dc5-9d0a-73ce3a237d33"
      },
      "id": "ITBN8bwq127f",
      "execution_count": null,
      "outputs": [
        {
          "output_type": "stream",
          "name": "stdout",
          "text": [
            "Mounted at /content/gdrive\n"
          ]
        }
      ]
    },
    {
      "cell_type": "code",
      "execution_count": null,
      "id": "ff646c58",
      "metadata": {
        "id": "ff646c58"
      },
      "outputs": [],
      "source": [
        "#loading the dataset\n",
        "\n",
        "df = pd.read_json('gdrive/My Drive/technical_test_data.json')"
      ]
    },
    {
      "cell_type": "code",
      "execution_count": null,
      "id": "1269b840",
      "metadata": {
        "id": "1269b840",
        "outputId": "1bfcb8f4-1fc9-42bb-980f-a5f23d9b440a",
        "colab": {
          "base_uri": "https://localhost:8080/",
          "height": 681
        }
      },
      "outputs": [
        {
          "output_type": "execute_result",
          "data": {
            "text/plain": [
              "   id                                        Description  \\\n",
              "0   0  - __EMAIL__ Hi , I have just ordered a pair of...   \n",
              "1   1  I am missing a pair of shoes from my order. Co...   \n",
              "2   2                 I didn'tget a my order - __EMAIL__   \n",
              "3   3  Hello, I ordered two __PRODUCTS_NAMES and one ...   \n",
              "4   4  My shipment never was delivered. The tracking ...   \n",
              "\n",
              "                                                tags created_at cc_emails  \\\n",
              "0            [category-1, missing-items, field-1456] 2020-03-15        []   \n",
              "1                       [missing-items, open-ticket] 2021-01-18        []   \n",
              "2                        [category-1, missing-items] 2019-08-01        []   \n",
              "3  [category-1, missing-items, open-ticket, field... 2020-08-27        []   \n",
              "4           [category-1, missing-items, open-ticket] 2019-07-21        []   \n",
              "\n",
              "  fwd_emails reply_cc_emails ticket_cc_emails fr_escalated   spam  ...  \\\n",
              "0         []              []               []        False  False  ...   \n",
              "1         []              []               []        False  False  ...   \n",
              "2         []              []               []        False  False  ...   \n",
              "3         []              []               []        False  False  ...   \n",
              "4         []              []               []        False  False  ...   \n",
              "\n",
              "   priority  requester_id  responder_id  source  company_id  status  \\\n",
              "0         1            30           304       1        None       5   \n",
              "1         1            30           304       1        None       5   \n",
              "2         1            30           304       1        None       5   \n",
              "3         1            30           304       1        None       5   \n",
              "4         1            30           304       1        None       5   \n",
              "\n",
              "            subject  association_type      support_email  \\\n",
              "0  Customer Request              None  digitalgenius.com   \n",
              "1  Customer Request              None  digitalgenius.com   \n",
              "2  Customer Request              None  digitalgenius.com   \n",
              "3  Customer Request              None  digitalgenius.com   \n",
              "4  Customer Request              None  digitalgenius.com   \n",
              "\n",
              "                       to_emails  \n",
              "0  ['support@digitalgenius.com']  \n",
              "1  ['support@digitalgenius.com']  \n",
              "2  ['support@digitalgenius.com']  \n",
              "3  ['support@digitalgenius.com']  \n",
              "4  ['support@digitalgenius.com']  \n",
              "\n",
              "[5 rows x 22 columns]"
            ],
            "text/html": [
              "\n",
              "  <div id=\"df-4746ccd8-296f-4dc2-89cb-7a3c0eb61b21\">\n",
              "    <div class=\"colab-df-container\">\n",
              "      <div>\n",
              "<style scoped>\n",
              "    .dataframe tbody tr th:only-of-type {\n",
              "        vertical-align: middle;\n",
              "    }\n",
              "\n",
              "    .dataframe tbody tr th {\n",
              "        vertical-align: top;\n",
              "    }\n",
              "\n",
              "    .dataframe thead th {\n",
              "        text-align: right;\n",
              "    }\n",
              "</style>\n",
              "<table border=\"1\" class=\"dataframe\">\n",
              "  <thead>\n",
              "    <tr style=\"text-align: right;\">\n",
              "      <th></th>\n",
              "      <th>id</th>\n",
              "      <th>Description</th>\n",
              "      <th>tags</th>\n",
              "      <th>created_at</th>\n",
              "      <th>cc_emails</th>\n",
              "      <th>fwd_emails</th>\n",
              "      <th>reply_cc_emails</th>\n",
              "      <th>ticket_cc_emails</th>\n",
              "      <th>fr_escalated</th>\n",
              "      <th>spam</th>\n",
              "      <th>...</th>\n",
              "      <th>priority</th>\n",
              "      <th>requester_id</th>\n",
              "      <th>responder_id</th>\n",
              "      <th>source</th>\n",
              "      <th>company_id</th>\n",
              "      <th>status</th>\n",
              "      <th>subject</th>\n",
              "      <th>association_type</th>\n",
              "      <th>support_email</th>\n",
              "      <th>to_emails</th>\n",
              "    </tr>\n",
              "  </thead>\n",
              "  <tbody>\n",
              "    <tr>\n",
              "      <th>0</th>\n",
              "      <td>0</td>\n",
              "      <td>- __EMAIL__ Hi , I have just ordered a pair of...</td>\n",
              "      <td>[category-1, missing-items, field-1456]</td>\n",
              "      <td>2020-03-15</td>\n",
              "      <td>[]</td>\n",
              "      <td>[]</td>\n",
              "      <td>[]</td>\n",
              "      <td>[]</td>\n",
              "      <td>False</td>\n",
              "      <td>False</td>\n",
              "      <td>...</td>\n",
              "      <td>1</td>\n",
              "      <td>30</td>\n",
              "      <td>304</td>\n",
              "      <td>1</td>\n",
              "      <td>None</td>\n",
              "      <td>5</td>\n",
              "      <td>Customer Request</td>\n",
              "      <td>None</td>\n",
              "      <td>digitalgenius.com</td>\n",
              "      <td>['support@digitalgenius.com']</td>\n",
              "    </tr>\n",
              "    <tr>\n",
              "      <th>1</th>\n",
              "      <td>1</td>\n",
              "      <td>I am missing a pair of shoes from my order. Co...</td>\n",
              "      <td>[missing-items, open-ticket]</td>\n",
              "      <td>2021-01-18</td>\n",
              "      <td>[]</td>\n",
              "      <td>[]</td>\n",
              "      <td>[]</td>\n",
              "      <td>[]</td>\n",
              "      <td>False</td>\n",
              "      <td>False</td>\n",
              "      <td>...</td>\n",
              "      <td>1</td>\n",
              "      <td>30</td>\n",
              "      <td>304</td>\n",
              "      <td>1</td>\n",
              "      <td>None</td>\n",
              "      <td>5</td>\n",
              "      <td>Customer Request</td>\n",
              "      <td>None</td>\n",
              "      <td>digitalgenius.com</td>\n",
              "      <td>['support@digitalgenius.com']</td>\n",
              "    </tr>\n",
              "    <tr>\n",
              "      <th>2</th>\n",
              "      <td>2</td>\n",
              "      <td>I didn'tget a my order - __EMAIL__</td>\n",
              "      <td>[category-1, missing-items]</td>\n",
              "      <td>2019-08-01</td>\n",
              "      <td>[]</td>\n",
              "      <td>[]</td>\n",
              "      <td>[]</td>\n",
              "      <td>[]</td>\n",
              "      <td>False</td>\n",
              "      <td>False</td>\n",
              "      <td>...</td>\n",
              "      <td>1</td>\n",
              "      <td>30</td>\n",
              "      <td>304</td>\n",
              "      <td>1</td>\n",
              "      <td>None</td>\n",
              "      <td>5</td>\n",
              "      <td>Customer Request</td>\n",
              "      <td>None</td>\n",
              "      <td>digitalgenius.com</td>\n",
              "      <td>['support@digitalgenius.com']</td>\n",
              "    </tr>\n",
              "    <tr>\n",
              "      <th>3</th>\n",
              "      <td>3</td>\n",
              "      <td>Hello, I ordered two __PRODUCTS_NAMES and one ...</td>\n",
              "      <td>[category-1, missing-items, open-ticket, field...</td>\n",
              "      <td>2020-08-27</td>\n",
              "      <td>[]</td>\n",
              "      <td>[]</td>\n",
              "      <td>[]</td>\n",
              "      <td>[]</td>\n",
              "      <td>False</td>\n",
              "      <td>False</td>\n",
              "      <td>...</td>\n",
              "      <td>1</td>\n",
              "      <td>30</td>\n",
              "      <td>304</td>\n",
              "      <td>1</td>\n",
              "      <td>None</td>\n",
              "      <td>5</td>\n",
              "      <td>Customer Request</td>\n",
              "      <td>None</td>\n",
              "      <td>digitalgenius.com</td>\n",
              "      <td>['support@digitalgenius.com']</td>\n",
              "    </tr>\n",
              "    <tr>\n",
              "      <th>4</th>\n",
              "      <td>4</td>\n",
              "      <td>My shipment never was delivered. The tracking ...</td>\n",
              "      <td>[category-1, missing-items, open-ticket]</td>\n",
              "      <td>2019-07-21</td>\n",
              "      <td>[]</td>\n",
              "      <td>[]</td>\n",
              "      <td>[]</td>\n",
              "      <td>[]</td>\n",
              "      <td>False</td>\n",
              "      <td>False</td>\n",
              "      <td>...</td>\n",
              "      <td>1</td>\n",
              "      <td>30</td>\n",
              "      <td>304</td>\n",
              "      <td>1</td>\n",
              "      <td>None</td>\n",
              "      <td>5</td>\n",
              "      <td>Customer Request</td>\n",
              "      <td>None</td>\n",
              "      <td>digitalgenius.com</td>\n",
              "      <td>['support@digitalgenius.com']</td>\n",
              "    </tr>\n",
              "  </tbody>\n",
              "</table>\n",
              "<p>5 rows × 22 columns</p>\n",
              "</div>\n",
              "      <button class=\"colab-df-convert\" onclick=\"convertToInteractive('df-4746ccd8-296f-4dc2-89cb-7a3c0eb61b21')\"\n",
              "              title=\"Convert this dataframe to an interactive table.\"\n",
              "              style=\"display:none;\">\n",
              "        \n",
              "  <svg xmlns=\"http://www.w3.org/2000/svg\" height=\"24px\"viewBox=\"0 0 24 24\"\n",
              "       width=\"24px\">\n",
              "    <path d=\"M0 0h24v24H0V0z\" fill=\"none\"/>\n",
              "    <path d=\"M18.56 5.44l.94 2.06.94-2.06 2.06-.94-2.06-.94-.94-2.06-.94 2.06-2.06.94zm-11 1L8.5 8.5l.94-2.06 2.06-.94-2.06-.94L8.5 2.5l-.94 2.06-2.06.94zm10 10l.94 2.06.94-2.06 2.06-.94-2.06-.94-.94-2.06-.94 2.06-2.06.94z\"/><path d=\"M17.41 7.96l-1.37-1.37c-.4-.4-.92-.59-1.43-.59-.52 0-1.04.2-1.43.59L10.3 9.45l-7.72 7.72c-.78.78-.78 2.05 0 2.83L4 21.41c.39.39.9.59 1.41.59.51 0 1.02-.2 1.41-.59l7.78-7.78 2.81-2.81c.8-.78.8-2.07 0-2.86zM5.41 20L4 18.59l7.72-7.72 1.47 1.35L5.41 20z\"/>\n",
              "  </svg>\n",
              "      </button>\n",
              "      \n",
              "  <style>\n",
              "    .colab-df-container {\n",
              "      display:flex;\n",
              "      flex-wrap:wrap;\n",
              "      gap: 12px;\n",
              "    }\n",
              "\n",
              "    .colab-df-convert {\n",
              "      background-color: #E8F0FE;\n",
              "      border: none;\n",
              "      border-radius: 50%;\n",
              "      cursor: pointer;\n",
              "      display: none;\n",
              "      fill: #1967D2;\n",
              "      height: 32px;\n",
              "      padding: 0 0 0 0;\n",
              "      width: 32px;\n",
              "    }\n",
              "\n",
              "    .colab-df-convert:hover {\n",
              "      background-color: #E2EBFA;\n",
              "      box-shadow: 0px 1px 2px rgba(60, 64, 67, 0.3), 0px 1px 3px 1px rgba(60, 64, 67, 0.15);\n",
              "      fill: #174EA6;\n",
              "    }\n",
              "\n",
              "    [theme=dark] .colab-df-convert {\n",
              "      background-color: #3B4455;\n",
              "      fill: #D2E3FC;\n",
              "    }\n",
              "\n",
              "    [theme=dark] .colab-df-convert:hover {\n",
              "      background-color: #434B5C;\n",
              "      box-shadow: 0px 1px 3px 1px rgba(0, 0, 0, 0.15);\n",
              "      filter: drop-shadow(0px 1px 2px rgba(0, 0, 0, 0.3));\n",
              "      fill: #FFFFFF;\n",
              "    }\n",
              "  </style>\n",
              "\n",
              "      <script>\n",
              "        const buttonEl =\n",
              "          document.querySelector('#df-4746ccd8-296f-4dc2-89cb-7a3c0eb61b21 button.colab-df-convert');\n",
              "        buttonEl.style.display =\n",
              "          google.colab.kernel.accessAllowed ? 'block' : 'none';\n",
              "\n",
              "        async function convertToInteractive(key) {\n",
              "          const element = document.querySelector('#df-4746ccd8-296f-4dc2-89cb-7a3c0eb61b21');\n",
              "          const dataTable =\n",
              "            await google.colab.kernel.invokeFunction('convertToInteractive',\n",
              "                                                     [key], {});\n",
              "          if (!dataTable) return;\n",
              "\n",
              "          const docLinkHtml = 'Like what you see? Visit the ' +\n",
              "            '<a target=\"_blank\" href=https://colab.research.google.com/notebooks/data_table.ipynb>data table notebook</a>'\n",
              "            + ' to learn more about interactive tables.';\n",
              "          element.innerHTML = '';\n",
              "          dataTable['output_type'] = 'display_data';\n",
              "          await google.colab.output.renderOutput(dataTable, element);\n",
              "          const docLink = document.createElement('div');\n",
              "          docLink.innerHTML = docLinkHtml;\n",
              "          element.appendChild(docLink);\n",
              "        }\n",
              "      </script>\n",
              "    </div>\n",
              "  </div>\n",
              "  "
            ]
          },
          "metadata": {},
          "execution_count": 39
        }
      ],
      "source": [
        "#data\n",
        "df.head()"
      ]
    },
    {
      "cell_type": "code",
      "execution_count": null,
      "id": "c6a5aa23",
      "metadata": {
        "id": "c6a5aa23",
        "outputId": "e46b406e-75cd-4d2a-891d-024dc2693010",
        "colab": {
          "base_uri": "https://localhost:8080/"
        }
      },
      "outputs": [
        {
          "output_type": "execute_result",
          "data": {
            "text/plain": [
              "(1433, 22)"
            ]
          },
          "metadata": {},
          "execution_count": 40
        }
      ],
      "source": [
        "#checking the number of rows and columns\n",
        "df.shape"
      ]
    },
    {
      "cell_type": "code",
      "execution_count": null,
      "id": "8ac0f227",
      "metadata": {
        "id": "8ac0f227",
        "outputId": "57b779aa-5795-44b4-9fc6-0c93f4a9db96",
        "colab": {
          "base_uri": "https://localhost:8080/"
        }
      },
      "outputs": [
        {
          "output_type": "execute_result",
          "data": {
            "text/plain": [
              "id                  0\n",
              "Description         0\n",
              "tags                0\n",
              "created_at          0\n",
              "cc_emails           0\n",
              "fwd_emails          0\n",
              "reply_cc_emails     0\n",
              "ticket_cc_emails    0\n",
              "fr_escalated        0\n",
              "spam                0\n",
              "email_config_id     0\n",
              "group_id            0\n",
              "priority            0\n",
              "requester_id        0\n",
              "responder_id        0\n",
              "source              0\n",
              "company_id          0\n",
              "status              0\n",
              "subject             0\n",
              "association_type    0\n",
              "support_email       0\n",
              "to_emails           0\n",
              "dtype: int64"
            ]
          },
          "metadata": {},
          "execution_count": 41
        }
      ],
      "source": [
        "#Checking for missing Value\n",
        "df.isna().sum()"
      ]
    },
    {
      "cell_type": "code",
      "execution_count": null,
      "id": "c4b5a20e",
      "metadata": {
        "id": "c4b5a20e",
        "outputId": "456428e9-394e-42f0-8baf-11610afe4533",
        "colab": {
          "base_uri": "https://localhost:8080/"
        }
      },
      "outputs": [
        {
          "output_type": "execute_result",
          "data": {
            "text/plain": [
              "<bound method Series.unique of 0                 [category-1, missing-items, field-1456]\n",
              "1                            [missing-items, open-ticket]\n",
              "2                             [category-1, missing-items]\n",
              "3       [category-1, missing-items, open-ticket, field...\n",
              "4                [category-1, missing-items, open-ticket]\n",
              "                              ...                        \n",
              "1428       [category-1, cancel-subscription, open-ticket]\n",
              "1429                    [category-1, cancel-subscription]\n",
              "1430            [category-1, ticket, cancel-subscription]\n",
              "1431       [category-1, cancel-subscription, open-ticket]\n",
              "1432    [category-1, adverse-effect, open-ticket, fiel...\n",
              "Name: tags, Length: 1433, dtype: object>"
            ]
          },
          "metadata": {},
          "execution_count": 42
        }
      ],
      "source": [
        "# To see the Nature of the  request\n",
        "df.tags.unique"
      ]
    },
    {
      "cell_type": "code",
      "execution_count": null,
      "id": "1e356093",
      "metadata": {
        "id": "1e356093"
      },
      "outputs": [],
      "source": [
        "#A function for a full description and nature of the request\n",
        "def cust_complaint(id):\n",
        "    return (df[\"Description\"][id]), (df[\"tags\"][id])"
      ]
    },
    {
      "cell_type": "code",
      "execution_count": null,
      "id": "851adbb6",
      "metadata": {
        "id": "851adbb6",
        "outputId": "92159f13-4243-428d-e382-c2df3cacf54a",
        "colab": {
          "base_uri": "https://localhost:8080/"
        }
      },
      "outputs": [
        {
          "output_type": "execute_result",
          "data": {
            "text/plain": [
              "(\"I ordered a pair of __PRODUCTS_NAMES__ shoes, but I never received a confirmation email. Makes me think I didn't complete the purchase process somehow?? Can you confirm that I placed an order?\\n __NAME__ - __EMAIL__\",\n",
              " ['missing-items', 'field-1456'])"
            ]
          },
          "metadata": {},
          "execution_count": 44
        }
      ],
      "source": [
        "#showing the full description and tags(i.e, category of the request), for a random customer\n",
        "cust_complaint(5)"
      ]
    },
    {
      "cell_type": "code",
      "execution_count": null,
      "id": "ebc2e24f",
      "metadata": {
        "id": "ebc2e24f",
        "outputId": "e79c6849-9856-4643-d514-f8ddcaac52fb",
        "colab": {
          "base_uri": "https://localhost:8080/"
        }
      },
      "outputs": [
        {
          "output_type": "execute_result",
          "data": {
            "text/plain": [
              "('I reported a missing delivery yesterday and received an email assuring me that the package delivery would be tracked and I would revive an email within 24 hours. As yet I have heard nothing more.',\n",
              " ['category-1', 'where-is-my-order'])"
            ]
          },
          "metadata": {},
          "execution_count": 45
        }
      ],
      "source": [
        "cust_complaint(23)"
      ]
    },
    {
      "cell_type": "markdown",
      "id": "97931dc5",
      "metadata": {
        "id": "97931dc5"
      },
      "source": [
        "# EDA"
      ]
    },
    {
      "cell_type": "markdown",
      "id": "cdc8c84f",
      "metadata": {
        "id": "cdc8c84f"
      },
      "source": [
        "Data Cleaning for Visualization Purpose"
      ]
    },
    {
      "cell_type": "code",
      "execution_count": null,
      "id": "73dcac40",
      "metadata": {
        "id": "73dcac40",
        "outputId": "035317f1-5ef4-4e30-9b9f-d35da59afd08",
        "colab": {
          "base_uri": "https://localhost:8080/"
        }
      },
      "outputs": [
        {
          "output_type": "execute_result",
          "data": {
            "text/plain": [
              "['missing-items', 'field-1456']"
            ]
          },
          "metadata": {},
          "execution_count": 46
        }
      ],
      "source": [
        "df.tags[5]"
      ]
    },
    {
      "cell_type": "markdown",
      "id": "d0b3c33e",
      "metadata": {
        "id": "d0b3c33e"
      },
      "source": [
        "The main purpose of tags[5] is missing-items"
      ]
    },
    {
      "cell_type": "code",
      "execution_count": null,
      "id": "88d873d0",
      "metadata": {
        "id": "88d873d0"
      },
      "outputs": [],
      "source": [
        "#Bringing out main purpose in tags\n",
        "Value =[]\n",
        "for g in df.id:\n",
        "  for item in df.tags[g]:\n",
        "     Value.append(item)"
      ]
    },
    {
      "cell_type": "code",
      "execution_count": null,
      "id": "8e22ccd9",
      "metadata": {
        "id": "8e22ccd9",
        "outputId": "364dd6cb-973f-4d80-c2bd-a0c4a414b79b",
        "colab": {
          "base_uri": "https://localhost:8080/"
        }
      },
      "outputs": [
        {
          "output_type": "execute_result",
          "data": {
            "text/plain": [
              "['open-ticket',\n",
              " 'field-1456',\n",
              " 'category-1',\n",
              " 'missing-items',\n",
              " 'category-1',\n",
              " 'missing-items',\n",
              " 'field-1456',\n",
              " 'missing-items',\n",
              " 'field-1456',\n",
              " 'category-1',\n",
              " 'missing-items']"
            ]
          },
          "metadata": {},
          "execution_count": 48
        }
      ],
      "source": [
        "#showing some category in the value\n",
        "Value[24:35]"
      ]
    },
    {
      "cell_type": "markdown",
      "id": "a83c2015",
      "metadata": {
        "id": "a83c2015"
      },
      "source": [
        "##### Open-tickets, field-1456, ticket, category-1 will be removed in the value(tags list) in order to see the main purpose of the message"
      ]
    },
    {
      "cell_type": "code",
      "execution_count": null,
      "id": "66f7a987",
      "metadata": {
        "id": "66f7a987"
      },
      "outputs": [],
      "source": [
        "Status=[]\n",
        "for item in Value:\n",
        "   if item in ([\"open-ticket\",\"ticket\",\"category-1\", \"field-1456\"]):\n",
        "      Status\n",
        "   else:\n",
        "       Status.append(item)"
      ]
    },
    {
      "cell_type": "code",
      "execution_count": null,
      "id": "2031070e",
      "metadata": {
        "id": "2031070e",
        "outputId": "c31583d1-a0fd-444f-932b-9807400c80c7",
        "colab": {
          "base_uri": "https://localhost:8080/"
        }
      },
      "outputs": [
        {
          "output_type": "execute_result",
          "data": {
            "text/plain": [
              "['missing-items',\n",
              " 'missing-items',\n",
              " 'missing-items',\n",
              " 'missing-items',\n",
              " 'where-is-my-order',\n",
              " 'where-is-my-order',\n",
              " 'where-is-my-order',\n",
              " 'where-is-my-order',\n",
              " 'where-is-my-order',\n",
              " 'where-is-my-order']"
            ]
          },
          "metadata": {},
          "execution_count": 50
        }
      ],
      "source": [
        "#showing some item in the status\n",
        "Status[15:25]"
      ]
    },
    {
      "cell_type": "code",
      "execution_count": null,
      "id": "e68a60e0",
      "metadata": {
        "id": "e68a60e0",
        "outputId": "f2b45d60-f50a-4296-b4ab-db4bcf580ff1",
        "colab": {
          "base_uri": "https://localhost:8080/"
        }
      },
      "outputs": [
        {
          "output_type": "stream",
          "name": "stdout",
          "text": [
            "There are 32 Distinct Requests\n"
          ]
        }
      ],
      "source": [
        "d=np.array(Status)\n",
        "print('There are', len(set(Status)), 'Distinct Requests')"
      ]
    },
    {
      "cell_type": "code",
      "execution_count": null,
      "id": "002385f7",
      "metadata": {
        "id": "002385f7",
        "outputId": "08c59c36-6843-49bb-d766-db4e65d4799e",
        "colab": {
          "base_uri": "https://localhost:8080/",
          "height": 175
        }
      },
      "outputs": [
        {
          "output_type": "execute_result",
          "data": {
            "text/plain": [
              "                                    0\n",
              "1014            promocode-not-working\n",
              "289             warranty-claim-status\n",
              "229   order-confirmation-not-received\n",
              "35                  where-is-my-order"
            ],
            "text/html": [
              "\n",
              "  <div id=\"df-2c79e5ef-eaa6-4d10-af31-2a6650d0de6e\">\n",
              "    <div class=\"colab-df-container\">\n",
              "      <div>\n",
              "<style scoped>\n",
              "    .dataframe tbody tr th:only-of-type {\n",
              "        vertical-align: middle;\n",
              "    }\n",
              "\n",
              "    .dataframe tbody tr th {\n",
              "        vertical-align: top;\n",
              "    }\n",
              "\n",
              "    .dataframe thead th {\n",
              "        text-align: right;\n",
              "    }\n",
              "</style>\n",
              "<table border=\"1\" class=\"dataframe\">\n",
              "  <thead>\n",
              "    <tr style=\"text-align: right;\">\n",
              "      <th></th>\n",
              "      <th>0</th>\n",
              "    </tr>\n",
              "  </thead>\n",
              "  <tbody>\n",
              "    <tr>\n",
              "      <th>1014</th>\n",
              "      <td>promocode-not-working</td>\n",
              "    </tr>\n",
              "    <tr>\n",
              "      <th>289</th>\n",
              "      <td>warranty-claim-status</td>\n",
              "    </tr>\n",
              "    <tr>\n",
              "      <th>229</th>\n",
              "      <td>order-confirmation-not-received</td>\n",
              "    </tr>\n",
              "    <tr>\n",
              "      <th>35</th>\n",
              "      <td>where-is-my-order</td>\n",
              "    </tr>\n",
              "  </tbody>\n",
              "</table>\n",
              "</div>\n",
              "      <button class=\"colab-df-convert\" onclick=\"convertToInteractive('df-2c79e5ef-eaa6-4d10-af31-2a6650d0de6e')\"\n",
              "              title=\"Convert this dataframe to an interactive table.\"\n",
              "              style=\"display:none;\">\n",
              "        \n",
              "  <svg xmlns=\"http://www.w3.org/2000/svg\" height=\"24px\"viewBox=\"0 0 24 24\"\n",
              "       width=\"24px\">\n",
              "    <path d=\"M0 0h24v24H0V0z\" fill=\"none\"/>\n",
              "    <path d=\"M18.56 5.44l.94 2.06.94-2.06 2.06-.94-2.06-.94-.94-2.06-.94 2.06-2.06.94zm-11 1L8.5 8.5l.94-2.06 2.06-.94-2.06-.94L8.5 2.5l-.94 2.06-2.06.94zm10 10l.94 2.06.94-2.06 2.06-.94-2.06-.94-.94-2.06-.94 2.06-2.06.94z\"/><path d=\"M17.41 7.96l-1.37-1.37c-.4-.4-.92-.59-1.43-.59-.52 0-1.04.2-1.43.59L10.3 9.45l-7.72 7.72c-.78.78-.78 2.05 0 2.83L4 21.41c.39.39.9.59 1.41.59.51 0 1.02-.2 1.41-.59l7.78-7.78 2.81-2.81c.8-.78.8-2.07 0-2.86zM5.41 20L4 18.59l7.72-7.72 1.47 1.35L5.41 20z\"/>\n",
              "  </svg>\n",
              "      </button>\n",
              "      \n",
              "  <style>\n",
              "    .colab-df-container {\n",
              "      display:flex;\n",
              "      flex-wrap:wrap;\n",
              "      gap: 12px;\n",
              "    }\n",
              "\n",
              "    .colab-df-convert {\n",
              "      background-color: #E8F0FE;\n",
              "      border: none;\n",
              "      border-radius: 50%;\n",
              "      cursor: pointer;\n",
              "      display: none;\n",
              "      fill: #1967D2;\n",
              "      height: 32px;\n",
              "      padding: 0 0 0 0;\n",
              "      width: 32px;\n",
              "    }\n",
              "\n",
              "    .colab-df-convert:hover {\n",
              "      background-color: #E2EBFA;\n",
              "      box-shadow: 0px 1px 2px rgba(60, 64, 67, 0.3), 0px 1px 3px 1px rgba(60, 64, 67, 0.15);\n",
              "      fill: #174EA6;\n",
              "    }\n",
              "\n",
              "    [theme=dark] .colab-df-convert {\n",
              "      background-color: #3B4455;\n",
              "      fill: #D2E3FC;\n",
              "    }\n",
              "\n",
              "    [theme=dark] .colab-df-convert:hover {\n",
              "      background-color: #434B5C;\n",
              "      box-shadow: 0px 1px 3px 1px rgba(0, 0, 0, 0.15);\n",
              "      filter: drop-shadow(0px 1px 2px rgba(0, 0, 0, 0.3));\n",
              "      fill: #FFFFFF;\n",
              "    }\n",
              "  </style>\n",
              "\n",
              "      <script>\n",
              "        const buttonEl =\n",
              "          document.querySelector('#df-2c79e5ef-eaa6-4d10-af31-2a6650d0de6e button.colab-df-convert');\n",
              "        buttonEl.style.display =\n",
              "          google.colab.kernel.accessAllowed ? 'block' : 'none';\n",
              "\n",
              "        async function convertToInteractive(key) {\n",
              "          const element = document.querySelector('#df-2c79e5ef-eaa6-4d10-af31-2a6650d0de6e');\n",
              "          const dataTable =\n",
              "            await google.colab.kernel.invokeFunction('convertToInteractive',\n",
              "                                                     [key], {});\n",
              "          if (!dataTable) return;\n",
              "\n",
              "          const docLinkHtml = 'Like what you see? Visit the ' +\n",
              "            '<a target=\"_blank\" href=https://colab.research.google.com/notebooks/data_table.ipynb>data table notebook</a>'\n",
              "            + ' to learn more about interactive tables.';\n",
              "          element.innerHTML = '';\n",
              "          dataTable['output_type'] = 'display_data';\n",
              "          await google.colab.output.renderOutput(dataTable, element);\n",
              "          const docLink = document.createElement('div');\n",
              "          docLink.innerHTML = docLinkHtml;\n",
              "          element.appendChild(docLink);\n",
              "        }\n",
              "      </script>\n",
              "    </div>\n",
              "  </div>\n",
              "  "
            ]
          },
          "metadata": {},
          "execution_count": 52
        }
      ],
      "source": [
        "#creating a dataframe for tag\n",
        "tag =pd.DataFrame(d)\n",
        "tag.sample(4)"
      ]
    },
    {
      "cell_type": "markdown",
      "id": "442c79d9",
      "metadata": {
        "id": "442c79d9"
      },
      "source": [
        "This is to show that the data still retains its total number(1433) but the main point has been obtained from it"
      ]
    },
    {
      "cell_type": "code",
      "execution_count": null,
      "id": "7216aed3",
      "metadata": {
        "id": "7216aed3",
        "outputId": "1eff9f43-5b8d-486b-d8a3-4956d7a4eaa0",
        "colab": {
          "base_uri": "https://localhost:8080/"
        }
      },
      "outputs": [
        {
          "output_type": "execute_result",
          "data": {
            "text/plain": [
              "(1433, 1)"
            ]
          },
          "metadata": {},
          "execution_count": 53
        }
      ],
      "source": [
        "tag.shape"
      ]
    },
    {
      "cell_type": "code",
      "execution_count": null,
      "id": "dba8dc3d",
      "metadata": {
        "id": "dba8dc3d",
        "outputId": "d6ebdf16-4524-421e-d08e-c64ee40cacd4",
        "colab": {
          "base_uri": "https://localhost:8080/",
          "height": 602
        }
      },
      "outputs": [
        {
          "output_type": "display_data",
          "data": {
            "text/plain": [
              "<Figure size 1296x360 with 1 Axes>"
            ],
            "image/png": "[encoded data removed]"
          },
          "metadata": {
            "needs_background": "light"
          }
        }
      ],
      "source": [
        "#visualizing the Customers' Requests\n",
        "fig,ax = plt.subplots(figsize = (18,5))\n",
        "sns.countplot(tag[0], data = tag)\n",
        "for i in ax.patches:\n",
        "    ax.annotate('{:.0f}'.format(i.get_height()), (i.get_x()+0.25, i.get_height()+0.01))\n",
        "plt.title(\" Customer Requests\",fontsize = 20)\n",
        "plt.xlabel(\"Requests Category\", fontsize = 15)\n",
        "plt.xticks(rotation = 90) \n",
        "plt.ylabel(\"Number of Customers\",fontsize = 15)\n",
        "plt.show()"
      ]
    },
    {
      "cell_type": "markdown",
      "id": "9f74d082",
      "metadata": {
        "id": "9f74d082"
      },
      "source": [
        "## INSIGHT\n",
        "\n",
        "'PromoCode not working' tends to be the most complained with 159 customers', followed by 'where is my order','exchange', 'how to return', 'discount questions' with 150 customers each"
      ]
    },
    {
      "cell_type": "code",
      "execution_count": null,
      "id": "8aff8a10",
      "metadata": {
        "id": "8aff8a10",
        "outputId": "97d55bbb-4e36-46a8-9f33-d4c6b922d430",
        "colab": {
          "base_uri": "https://localhost:8080/"
        }
      },
      "outputs": [
        {
          "output_type": "execute_result",
          "data": {
            "text/plain": [
              "2019    722\n",
              "2020    664\n",
              "2021     47\n",
              "Name: created_at, dtype: int64"
            ]
          },
          "metadata": {},
          "execution_count": 55
        }
      ],
      "source": [
        "# checking the date\n",
        "date =pd.DatetimeIndex(df.created_at).year\n",
        "date.value_counts()"
      ]
    },
    {
      "cell_type": "code",
      "execution_count": null,
      "id": "6ae3bddd",
      "metadata": {
        "id": "6ae3bddd",
        "outputId": "526c78eb-5cfd-492a-e9e3-6dd151c90f3e",
        "colab": {
          "base_uri": "https://localhost:8080/",
          "height": 357
        }
      },
      "outputs": [
        {
          "output_type": "display_data",
          "data": {
            "text/plain": [
              "<Figure size 576x360 with 1 Axes>"
            ],
            "image/png": "[encoded data removed]"
          },
          "metadata": {
            "needs_background": "light"
          }
        }
      ],
      "source": [
        "#visualizing the Customers' Request\n",
        "fig,ax = plt.subplots(figsize = (8,5))\n",
        "sns.countplot(date)\n",
        "for i in ax.patches:\n",
        "    ax.annotate('{:.0f}'.format(i.get_height()), (i.get_x()+0.25, i.get_height()+0.01))\n",
        "plt.title(\"Year of Message\",fontsize = 15)\n",
        "plt.xlabel(\"Years\",fontsize = 15) \n",
        "plt.ylabel(\"Number of Customers\",fontsize = 15)\n",
        "plt.show()"
      ]
    },
    {
      "cell_type": "markdown",
      "id": "bf808bb1",
      "metadata": {
        "id": "bf808bb1"
      },
      "source": [
        "# INSIGHT\n",
        "2019 had the highest Number of request"
      ]
    },
    {
      "cell_type": "markdown",
      "id": "20973f3a",
      "metadata": {
        "id": "20973f3a"
      },
      "source": [
        "# Data Cleaning for Model Purpose"
      ]
    },
    {
      "cell_type": "code",
      "execution_count": null,
      "id": "6c1f2392",
      "metadata": {
        "id": "6c1f2392",
        "outputId": "969a01a2-f182-447e-b52d-b2f2e71ba369",
        "colab": {
          "base_uri": "https://localhost:8080/"
        }
      },
      "outputs": [
        {
          "output_type": "execute_result",
          "data": {
            "text/plain": [
              "Not Order-status    1283\n",
              "Order-status         150\n",
              "Name: target, dtype: int64"
            ]
          },
          "metadata": {},
          "execution_count": 57
        }
      ],
      "source": [
        "#bringing out the target value (is the customer asking for  order status?,where is my ticket?)\n",
        "target =[]\n",
        "for g in df.id:\n",
        "   if \"where-is-my-order\" in df.tags[g]:\n",
        "         target.append('Order-status')\n",
        "   else:\n",
        "        target.append('Not Order-status')\n",
        "#merging the target to the dataset\n",
        "df[\"target\"] = target\n",
        "df.target.value_counts()"
      ]
    },
    {
      "cell_type": "markdown",
      "id": "03c948a7",
      "metadata": {
        "id": "03c948a7"
      },
      "source": [
        "#### Note: The total Number of Request that is about Order's status is 150. which is the target variable, this implies Imbalance in the dataset which will be downsided in order to obtained a better accuracy for the model."
      ]
    },
    {
      "cell_type": "markdown",
      "id": "3a55b0dd",
      "metadata": {
        "id": "3a55b0dd"
      },
      "source": [
        "# FEATURE ENGINEERING"
      ]
    },
    {
      "cell_type": "code",
      "execution_count": null,
      "id": "c22808fb",
      "metadata": {
        "id": "c22808fb",
        "outputId": "0368647b-7889-4f07-a7d2-d8ad63b43eb2",
        "colab": {
          "base_uri": "https://localhost:8080/",
          "height": 206
        }
      },
      "outputs": [
        {
          "output_type": "execute_result",
          "data": {
            "text/plain": [
              "                                           Description            target\n",
              "802  I just placed this order and missed the line t...  Not Order-status\n",
              "749  Hi, I signed up for your newsletter after purc...  Not Order-status\n",
              "915  _COMPANY_ Pending request: exchange or return ...  Not Order-status\n",
              "803  I just received my order item 19.0001 __PRODUC...  Not Order-status\n",
              "164  Hoping someone can assist - i just checked the...      Order-status"
            ],
            "text/html": [
              "\n",
              "  <div id=\"df-b00bb93b-efdb-4349-b7b2-cb33a0a3508a\">\n",
              "    <div class=\"colab-df-container\">\n",
              "      <div>\n",
              "<style scoped>\n",
              "    .dataframe tbody tr th:only-of-type {\n",
              "        vertical-align: middle;\n",
              "    }\n",
              "\n",
              "    .dataframe tbody tr th {\n",
              "        vertical-align: top;\n",
              "    }\n",
              "\n",
              "    .dataframe thead th {\n",
              "        text-align: right;\n",
              "    }\n",
              "</style>\n",
              "<table border=\"1\" class=\"dataframe\">\n",
              "  <thead>\n",
              "    <tr style=\"text-align: right;\">\n",
              "      <th></th>\n",
              "      <th>Description</th>\n",
              "      <th>target</th>\n",
              "    </tr>\n",
              "  </thead>\n",
              "  <tbody>\n",
              "    <tr>\n",
              "      <th>802</th>\n",
              "      <td>I just placed this order and missed the line t...</td>\n",
              "      <td>Not Order-status</td>\n",
              "    </tr>\n",
              "    <tr>\n",
              "      <th>749</th>\n",
              "      <td>Hi, I signed up for your newsletter after purc...</td>\n",
              "      <td>Not Order-status</td>\n",
              "    </tr>\n",
              "    <tr>\n",
              "      <th>915</th>\n",
              "      <td>_COMPANY_ Pending request: exchange or return ...</td>\n",
              "      <td>Not Order-status</td>\n",
              "    </tr>\n",
              "    <tr>\n",
              "      <th>803</th>\n",
              "      <td>I just received my order item 19.0001 __PRODUC...</td>\n",
              "      <td>Not Order-status</td>\n",
              "    </tr>\n",
              "    <tr>\n",
              "      <th>164</th>\n",
              "      <td>Hoping someone can assist - i just checked the...</td>\n",
              "      <td>Order-status</td>\n",
              "    </tr>\n",
              "  </tbody>\n",
              "</table>\n",
              "</div>\n",
              "      <button class=\"colab-df-convert\" onclick=\"convertToInteractive('df-b00bb93b-efdb-4349-b7b2-cb33a0a3508a')\"\n",
              "              title=\"Convert this dataframe to an interactive table.\"\n",
              "              style=\"display:none;\">\n",
              "        \n",
              "  <svg xmlns=\"http://www.w3.org/2000/svg\" height=\"24px\"viewBox=\"0 0 24 24\"\n",
              "       width=\"24px\">\n",
              "    <path d=\"M0 0h24v24H0V0z\" fill=\"none\"/>\n",
              "    <path d=\"M18.56 5.44l.94 2.06.94-2.06 2.06-.94-2.06-.94-.94-2.06-.94 2.06-2.06.94zm-11 1L8.5 8.5l.94-2.06 2.06-.94-2.06-.94L8.5 2.5l-.94 2.06-2.06.94zm10 10l.94 2.06.94-2.06 2.06-.94-2.06-.94-.94-2.06-.94 2.06-2.06.94z\"/><path d=\"M17.41 7.96l-1.37-1.37c-.4-.4-.92-.59-1.43-.59-.52 0-1.04.2-1.43.59L10.3 9.45l-7.72 7.72c-.78.78-.78 2.05 0 2.83L4 21.41c.39.39.9.59 1.41.59.51 0 1.02-.2 1.41-.59l7.78-7.78 2.81-2.81c.8-.78.8-2.07 0-2.86zM5.41 20L4 18.59l7.72-7.72 1.47 1.35L5.41 20z\"/>\n",
              "  </svg>\n",
              "      </button>\n",
              "      \n",
              "  <style>\n",
              "    .colab-df-container {\n",
              "      display:flex;\n",
              "      flex-wrap:wrap;\n",
              "      gap: 12px;\n",
              "    }\n",
              "\n",
              "    .colab-df-convert {\n",
              "      background-color: #E8F0FE;\n",
              "      border: none;\n",
              "      border-radius: 50%;\n",
              "      cursor: pointer;\n",
              "      display: none;\n",
              "      fill: #1967D2;\n",
              "      height: 32px;\n",
              "      padding: 0 0 0 0;\n",
              "      width: 32px;\n",
              "    }\n",
              "\n",
              "    .colab-df-convert:hover {\n",
              "      background-color: #E2EBFA;\n",
              "      box-shadow: 0px 1px 2px rgba(60, 64, 67, 0.3), 0px 1px 3px 1px rgba(60, 64, 67, 0.15);\n",
              "      fill: #174EA6;\n",
              "    }\n",
              "\n",
              "    [theme=dark] .colab-df-convert {\n",
              "      background-color: #3B4455;\n",
              "      fill: #D2E3FC;\n",
              "    }\n",
              "\n",
              "    [theme=dark] .colab-df-convert:hover {\n",
              "      background-color: #434B5C;\n",
              "      box-shadow: 0px 1px 3px 1px rgba(0, 0, 0, 0.15);\n",
              "      filter: drop-shadow(0px 1px 2px rgba(0, 0, 0, 0.3));\n",
              "      fill: #FFFFFF;\n",
              "    }\n",
              "  </style>\n",
              "\n",
              "      <script>\n",
              "        const buttonEl =\n",
              "          document.querySelector('#df-b00bb93b-efdb-4349-b7b2-cb33a0a3508a button.colab-df-convert');\n",
              "        buttonEl.style.display =\n",
              "          google.colab.kernel.accessAllowed ? 'block' : 'none';\n",
              "\n",
              "        async function convertToInteractive(key) {\n",
              "          const element = document.querySelector('#df-b00bb93b-efdb-4349-b7b2-cb33a0a3508a');\n",
              "          const dataTable =\n",
              "            await google.colab.kernel.invokeFunction('convertToInteractive',\n",
              "                                                     [key], {});\n",
              "          if (!dataTable) return;\n",
              "\n",
              "          const docLinkHtml = 'Like what you see? Visit the ' +\n",
              "            '<a target=\"_blank\" href=https://colab.research.google.com/notebooks/data_table.ipynb>data table notebook</a>'\n",
              "            + ' to learn more about interactive tables.';\n",
              "          element.innerHTML = '';\n",
              "          dataTable['output_type'] = 'display_data';\n",
              "          await google.colab.output.renderOutput(dataTable, element);\n",
              "          const docLink = document.createElement('div');\n",
              "          docLink.innerHTML = docLinkHtml;\n",
              "          element.appendChild(docLink);\n",
              "        }\n",
              "      </script>\n",
              "    </div>\n",
              "  </div>\n",
              "  "
            ]
          },
          "metadata": {},
          "execution_count": 58
        }
      ],
      "source": [
        "#needed columns\n",
        "df2 = df[['Description', 'target']]\n",
        "df2.sample(5)"
      ]
    },
    {
      "cell_type": "markdown",
      "id": "4a2d696c",
      "metadata": {
        "id": "4a2d696c"
      },
      "source": [
        "### Text preprocessing\n",
        " #### Reduce noise\n",
        "  + punctuation\n",
        "  + Special Char\n",
        "  + Stopwords\n",
        "#### Chainging to  Lower case\n",
        "  "
      ]
    },
    {
      "cell_type": "code",
      "execution_count": null,
      "id": "449a50ff",
      "metadata": {
        "id": "449a50ff"
      },
      "outputs": [],
      "source": [
        "#for different neattest functions\n",
        "#dir(nfx) "
      ]
    },
    {
      "cell_type": "code",
      "execution_count": null,
      "id": "02c4b1e7",
      "metadata": {
        "id": "02c4b1e7"
      },
      "outputs": [],
      "source": [
        "#removing stopwords like I, have, and, or, was, is , the etc.\n",
        "df2['Description']= df2['Description'].apply(nfx.remove_stopwords)"
      ]
    },
    {
      "cell_type": "code",
      "execution_count": null,
      "id": "1ac29f9f",
      "metadata": {
        "id": "1ac29f9f"
      },
      "outputs": [],
      "source": [
        "#removing special characters\n",
        "df2['Description']= df2['Description'].apply(nfx.remove_special_characters)"
      ]
    },
    {
      "cell_type": "code",
      "execution_count": null,
      "id": "1aa5edb6",
      "metadata": {
        "id": "1aa5edb6"
      },
      "outputs": [],
      "source": [
        "#changing to lower case\n",
        "df2['Description']= df2['Description'].str.lower()"
      ]
    },
    {
      "cell_type": "code",
      "execution_count": null,
      "id": "9dda379e",
      "metadata": {
        "id": "9dda379e",
        "colab": {
          "base_uri": "https://localhost:8080/",
          "height": 35
        },
        "outputId": "2d4cdce4-c510-4346-cafd-7c6a548bb09b"
      },
      "outputs": [
        {
          "output_type": "execute_result",
          "data": {
            "text/plain": [
              "'email hi ordered pair productname relevant code free company bag new customer received trainers bag sent separately inefficient system oversight kind regards'"
            ],
            "application/vnd.google.colaboratory.intrinsic+json": {
              "type": "string"
            }
          },
          "metadata": {},
          "execution_count": 76
        }
      ],
      "source": [
        "#after cleaning\n",
        "df2['Description'][0]"
      ]
    },
    {
      "cell_type": "code",
      "execution_count": null,
      "id": "98ca69b9",
      "metadata": {
        "id": "98ca69b9",
        "colab": {
          "base_uri": "https://localhost:8080/",
          "height": 53
        },
        "outputId": "67085f77-59a6-438b-9cbb-da9ed0c204bc"
      },
      "outputs": [
        {
          "output_type": "execute_result",
          "data": {
            "text/plain": [
              "'- __EMAIL__ Hi , I have just ordered a pair of __PRODUCT_NAME__ and put the relevant code for free __COMPANY__ bag as new customer . I have received trainers but no bag . Will this be sent separately? \\n Seems to be an inefficient system, or was this an oversight?\\n Kind regards\\n __NAME__'"
            ],
            "application/vnd.google.colaboratory.intrinsic+json": {
              "type": "string"
            }
          },
          "metadata": {},
          "execution_count": 77
        }
      ],
      "source": [
        "#original data\n",
        "df['Description'][0]"
      ]
    },
    {
      "cell_type": "markdown",
      "id": "2972d3b8",
      "metadata": {
        "id": "2972d3b8"
      },
      "source": [
        "## Downsizing the data for model purpose i.e Dealing with the Imbalance in the dataset"
      ]
    },
    {
      "cell_type": "code",
      "execution_count": null,
      "id": "0d7bece9",
      "metadata": {
        "id": "0d7bece9",
        "colab": {
          "base_uri": "https://localhost:8080/"
        },
        "outputId": "ecec131a-12db-4e62-f5db-241822a05570"
      },
      "outputs": [
        {
          "output_type": "execute_result",
          "data": {
            "text/plain": [
              "array(['Not Order-status', 'Order-status'], dtype=object)"
            ]
          },
          "metadata": {},
          "execution_count": 78
        }
      ],
      "source": [
        "df2.target.unique()"
      ]
    },
    {
      "cell_type": "code",
      "execution_count": null,
      "id": "4cfb623b",
      "metadata": {
        "id": "4cfb623b",
        "colab": {
          "base_uri": "https://localhost:8080/"
        },
        "outputId": "5a73c38e-e65d-4185-cd77-e608daad0dce"
      },
      "outputs": [
        {
          "output_type": "execute_result",
          "data": {
            "text/plain": [
              "((150, 2), (1283, 2))"
            ]
          },
          "metadata": {},
          "execution_count": 79
        }
      ],
      "source": [
        "yes= df2[df2['target']=='Order-status']\n",
        "no = df2[df2['target'] == 'Not Order-status']\n",
        "yes.shape, no.shape "
      ]
    },
    {
      "cell_type": "code",
      "execution_count": null,
      "id": "0a6106b9",
      "metadata": {
        "id": "0a6106b9",
        "colab": {
          "base_uri": "https://localhost:8080/",
          "height": 296
        },
        "outputId": "63df2b81-c509-4100-c190-2c8e96001777"
      },
      "outputs": [
        {
          "output_type": "execute_result",
          "data": {
            "text/plain": [
              "<matplotlib.axes._subplots.AxesSubplot at 0x7fcca44a30d0>"
            ]
          },
          "metadata": {},
          "execution_count": 80
        },
        {
          "output_type": "display_data",
          "data": {
            "text/plain": [
              "<Figure size 432x288 with 1 Axes>"
            ],
            "image/png": "[encoded data removed]"
          },
          "metadata": {
            "needs_background": "light"
          }
        }
      ],
      "source": [
        "sns.countplot(x = 'target', data = df2)"
      ]
    },
    {
      "cell_type": "markdown",
      "id": "1e78ff70",
      "metadata": {
        "id": "1e78ff70"
      },
      "source": [
        "### It's obvious there is Imbalance in the data"
      ]
    },
    {
      "cell_type": "code",
      "execution_count": null,
      "id": "3071c1d4",
      "metadata": {
        "id": "3071c1d4",
        "colab": {
          "base_uri": "https://localhost:8080/",
          "height": 206
        },
        "outputId": "8cba47df-2e7c-4278-d869-2222c674c7de"
      },
      "outputs": [
        {
          "output_type": "execute_result",
          "data": {
            "text/plain": [
              "                                            Description            target\n",
              "283   sent warranty claim form received response ema...  Not Order-status\n",
              "499   hi productnamess charged amountshipping site s...  Not Order-status\n",
              "1186  hi purchased jacket hoping use promo code rece...  Not Order-status\n",
              "418   hello boyfriend ordered hoodie date accidental...  Not Order-status\n",
              "1049  hi trying use discount code email new10w6jswmt...  Not Order-status"
            ],
            "text/html": [
              "\n",
              "  <div id=\"df-6032978e-2eaf-4098-89e9-3d02bcdfe260\">\n",
              "    <div class=\"colab-df-container\">\n",
              "      <div>\n",
              "<style scoped>\n",
              "    .dataframe tbody tr th:only-of-type {\n",
              "        vertical-align: middle;\n",
              "    }\n",
              "\n",
              "    .dataframe tbody tr th {\n",
              "        vertical-align: top;\n",
              "    }\n",
              "\n",
              "    .dataframe thead th {\n",
              "        text-align: right;\n",
              "    }\n",
              "</style>\n",
              "<table border=\"1\" class=\"dataframe\">\n",
              "  <thead>\n",
              "    <tr style=\"text-align: right;\">\n",
              "      <th></th>\n",
              "      <th>Description</th>\n",
              "      <th>target</th>\n",
              "    </tr>\n",
              "  </thead>\n",
              "  <tbody>\n",
              "    <tr>\n",
              "      <th>283</th>\n",
              "      <td>sent warranty claim form received response ema...</td>\n",
              "      <td>Not Order-status</td>\n",
              "    </tr>\n",
              "    <tr>\n",
              "      <th>499</th>\n",
              "      <td>hi productnamess charged amountshipping site s...</td>\n",
              "      <td>Not Order-status</td>\n",
              "    </tr>\n",
              "    <tr>\n",
              "      <th>1186</th>\n",
              "      <td>hi purchased jacket hoping use promo code rece...</td>\n",
              "      <td>Not Order-status</td>\n",
              "    </tr>\n",
              "    <tr>\n",
              "      <th>418</th>\n",
              "      <td>hello boyfriend ordered hoodie date accidental...</td>\n",
              "      <td>Not Order-status</td>\n",
              "    </tr>\n",
              "    <tr>\n",
              "      <th>1049</th>\n",
              "      <td>hi trying use discount code email new10w6jswmt...</td>\n",
              "      <td>Not Order-status</td>\n",
              "    </tr>\n",
              "  </tbody>\n",
              "</table>\n",
              "</div>\n",
              "      <button class=\"colab-df-convert\" onclick=\"convertToInteractive('df-6032978e-2eaf-4098-89e9-3d02bcdfe260')\"\n",
              "              title=\"Convert this dataframe to an interactive table.\"\n",
              "              style=\"display:none;\">\n",
              "        \n",
              "  <svg xmlns=\"http://www.w3.org/2000/svg\" height=\"24px\"viewBox=\"0 0 24 24\"\n",
              "       width=\"24px\">\n",
              "    <path d=\"M0 0h24v24H0V0z\" fill=\"none\"/>\n",
              "    <path d=\"M18.56 5.44l.94 2.06.94-2.06 2.06-.94-2.06-.94-.94-2.06-.94 2.06-2.06.94zm-11 1L8.5 8.5l.94-2.06 2.06-.94-2.06-.94L8.5 2.5l-.94 2.06-2.06.94zm10 10l.94 2.06.94-2.06 2.06-.94-2.06-.94-.94-2.06-.94 2.06-2.06.94z\"/><path d=\"M17.41 7.96l-1.37-1.37c-.4-.4-.92-.59-1.43-.59-.52 0-1.04.2-1.43.59L10.3 9.45l-7.72 7.72c-.78.78-.78 2.05 0 2.83L4 21.41c.39.39.9.59 1.41.59.51 0 1.02-.2 1.41-.59l7.78-7.78 2.81-2.81c.8-.78.8-2.07 0-2.86zM5.41 20L4 18.59l7.72-7.72 1.47 1.35L5.41 20z\"/>\n",
              "  </svg>\n",
              "      </button>\n",
              "      \n",
              "  <style>\n",
              "    .colab-df-container {\n",
              "      display:flex;\n",
              "      flex-wrap:wrap;\n",
              "      gap: 12px;\n",
              "    }\n",
              "\n",
              "    .colab-df-convert {\n",
              "      background-color: #E8F0FE;\n",
              "      border: none;\n",
              "      border-radius: 50%;\n",
              "      cursor: pointer;\n",
              "      display: none;\n",
              "      fill: #1967D2;\n",
              "      height: 32px;\n",
              "      padding: 0 0 0 0;\n",
              "      width: 32px;\n",
              "    }\n",
              "\n",
              "    .colab-df-convert:hover {\n",
              "      background-color: #E2EBFA;\n",
              "      box-shadow: 0px 1px 2px rgba(60, 64, 67, 0.3), 0px 1px 3px 1px rgba(60, 64, 67, 0.15);\n",
              "      fill: #174EA6;\n",
              "    }\n",
              "\n",
              "    [theme=dark] .colab-df-convert {\n",
              "      background-color: #3B4455;\n",
              "      fill: #D2E3FC;\n",
              "    }\n",
              "\n",
              "    [theme=dark] .colab-df-convert:hover {\n",
              "      background-color: #434B5C;\n",
              "      box-shadow: 0px 1px 3px 1px rgba(0, 0, 0, 0.15);\n",
              "      filter: drop-shadow(0px 1px 2px rgba(0, 0, 0, 0.3));\n",
              "      fill: #FFFFFF;\n",
              "    }\n",
              "  </style>\n",
              "\n",
              "      <script>\n",
              "        const buttonEl =\n",
              "          document.querySelector('#df-6032978e-2eaf-4098-89e9-3d02bcdfe260 button.colab-df-convert');\n",
              "        buttonEl.style.display =\n",
              "          google.colab.kernel.accessAllowed ? 'block' : 'none';\n",
              "\n",
              "        async function convertToInteractive(key) {\n",
              "          const element = document.querySelector('#df-6032978e-2eaf-4098-89e9-3d02bcdfe260');\n",
              "          const dataTable =\n",
              "            await google.colab.kernel.invokeFunction('convertToInteractive',\n",
              "                                                     [key], {});\n",
              "          if (!dataTable) return;\n",
              "\n",
              "          const docLinkHtml = 'Like what you see? Visit the ' +\n",
              "            '<a target=\"_blank\" href=https://colab.research.google.com/notebooks/data_table.ipynb>data table notebook</a>'\n",
              "            + ' to learn more about interactive tables.';\n",
              "          element.innerHTML = '';\n",
              "          dataTable['output_type'] = 'display_data';\n",
              "          await google.colab.output.renderOutput(dataTable, element);\n",
              "          const docLink = document.createElement('div');\n",
              "          docLink.innerHTML = docLinkHtml;\n",
              "          element.appendChild(docLink);\n",
              "        }\n",
              "      </script>\n",
              "    </div>\n",
              "  </div>\n",
              "  "
            ]
          },
          "metadata": {},
          "execution_count": 85
        }
      ],
      "source": [
        "#randomly selecting 150 from other dataset that are not order-status\n",
        "df_no = no.sample(n = 150, random_state = 1)\n",
        "#merging the yes and no together\n",
        "df3 = pd.concat([df_no, yes], axis = 0)\n",
        "df3.head()"
      ]
    },
    {
      "cell_type": "code",
      "execution_count": null,
      "id": "5b80ab66",
      "metadata": {
        "id": "5b80ab66",
        "colab": {
          "base_uri": "https://localhost:8080/"
        },
        "outputId": "355316a3-f546-4d7c-ed32-209b3f9f5a7a"
      },
      "outputs": [
        {
          "output_type": "execute_result",
          "data": {
            "text/plain": [
              "Not Order-status    150\n",
              "Order-status        150\n",
              "Name: target, dtype: int64"
            ]
          },
          "metadata": {},
          "execution_count": 86
        }
      ],
      "source": [
        "#the data is balance now\n",
        "df3.target.value_counts()"
      ]
    },
    {
      "cell_type": "code",
      "execution_count": null,
      "id": "204b1d4f",
      "metadata": {
        "id": "204b1d4f",
        "colab": {
          "base_uri": "https://localhost:8080/",
          "height": 206
        },
        "outputId": "1016ae4f-219d-4a9f-feec-22358cf5112c"
      },
      "outputs": [
        {
          "output_type": "execute_result",
          "data": {
            "text/plain": [
              "                                         Description            target\n",
              "0  package showing delivered showed advise packag...      Order-status\n",
              "1        ordered wrong color child need change email  Not Order-status\n",
              "2  returned pair 95 pair 9 mens sneakers date bel...      Order-status\n",
              "3  second time trying reach customer service got ...      Order-status\n",
              "4  hello prior placing significantly large order ...  Not Order-status"
            ],
            "text/html": [
              "\n",
              "  <div id=\"df-9258f480-d4a2-4275-bc76-44ca2a58daf4\">\n",
              "    <div class=\"colab-df-container\">\n",
              "      <div>\n",
              "<style scoped>\n",
              "    .dataframe tbody tr th:only-of-type {\n",
              "        vertical-align: middle;\n",
              "    }\n",
              "\n",
              "    .dataframe tbody tr th {\n",
              "        vertical-align: top;\n",
              "    }\n",
              "\n",
              "    .dataframe thead th {\n",
              "        text-align: right;\n",
              "    }\n",
              "</style>\n",
              "<table border=\"1\" class=\"dataframe\">\n",
              "  <thead>\n",
              "    <tr style=\"text-align: right;\">\n",
              "      <th></th>\n",
              "      <th>Description</th>\n",
              "      <th>target</th>\n",
              "    </tr>\n",
              "  </thead>\n",
              "  <tbody>\n",
              "    <tr>\n",
              "      <th>0</th>\n",
              "      <td>package showing delivered showed advise packag...</td>\n",
              "      <td>Order-status</td>\n",
              "    </tr>\n",
              "    <tr>\n",
              "      <th>1</th>\n",
              "      <td>ordered wrong color child need change email</td>\n",
              "      <td>Not Order-status</td>\n",
              "    </tr>\n",
              "    <tr>\n",
              "      <th>2</th>\n",
              "      <td>returned pair 95 pair 9 mens sneakers date bel...</td>\n",
              "      <td>Order-status</td>\n",
              "    </tr>\n",
              "    <tr>\n",
              "      <th>3</th>\n",
              "      <td>second time trying reach customer service got ...</td>\n",
              "      <td>Order-status</td>\n",
              "    </tr>\n",
              "    <tr>\n",
              "      <th>4</th>\n",
              "      <td>hello prior placing significantly large order ...</td>\n",
              "      <td>Not Order-status</td>\n",
              "    </tr>\n",
              "  </tbody>\n",
              "</table>\n",
              "</div>\n",
              "      <button class=\"colab-df-convert\" onclick=\"convertToInteractive('df-9258f480-d4a2-4275-bc76-44ca2a58daf4')\"\n",
              "              title=\"Convert this dataframe to an interactive table.\"\n",
              "              style=\"display:none;\">\n",
              "        \n",
              "  <svg xmlns=\"http://www.w3.org/2000/svg\" height=\"24px\"viewBox=\"0 0 24 24\"\n",
              "       width=\"24px\">\n",
              "    <path d=\"M0 0h24v24H0V0z\" fill=\"none\"/>\n",
              "    <path d=\"M18.56 5.44l.94 2.06.94-2.06 2.06-.94-2.06-.94-.94-2.06-.94 2.06-2.06.94zm-11 1L8.5 8.5l.94-2.06 2.06-.94-2.06-.94L8.5 2.5l-.94 2.06-2.06.94zm10 10l.94 2.06.94-2.06 2.06-.94-2.06-.94-.94-2.06-.94 2.06-2.06.94z\"/><path d=\"M17.41 7.96l-1.37-1.37c-.4-.4-.92-.59-1.43-.59-.52 0-1.04.2-1.43.59L10.3 9.45l-7.72 7.72c-.78.78-.78 2.05 0 2.83L4 21.41c.39.39.9.59 1.41.59.51 0 1.02-.2 1.41-.59l7.78-7.78 2.81-2.81c.8-.78.8-2.07 0-2.86zM5.41 20L4 18.59l7.72-7.72 1.47 1.35L5.41 20z\"/>\n",
              "  </svg>\n",
              "      </button>\n",
              "      \n",
              "  <style>\n",
              "    .colab-df-container {\n",
              "      display:flex;\n",
              "      flex-wrap:wrap;\n",
              "      gap: 12px;\n",
              "    }\n",
              "\n",
              "    .colab-df-convert {\n",
              "      background-color: #E8F0FE;\n",
              "      border: none;\n",
              "      border-radius: 50%;\n",
              "      cursor: pointer;\n",
              "      display: none;\n",
              "      fill: #1967D2;\n",
              "      height: 32px;\n",
              "      padding: 0 0 0 0;\n",
              "      width: 32px;\n",
              "    }\n",
              "\n",
              "    .colab-df-convert:hover {\n",
              "      background-color: #E2EBFA;\n",
              "      box-shadow: 0px 1px 2px rgba(60, 64, 67, 0.3), 0px 1px 3px 1px rgba(60, 64, 67, 0.15);\n",
              "      fill: #174EA6;\n",
              "    }\n",
              "\n",
              "    [theme=dark] .colab-df-convert {\n",
              "      background-color: #3B4455;\n",
              "      fill: #D2E3FC;\n",
              "    }\n",
              "\n",
              "    [theme=dark] .colab-df-convert:hover {\n",
              "      background-color: #434B5C;\n",
              "      box-shadow: 0px 1px 3px 1px rgba(0, 0, 0, 0.15);\n",
              "      filter: drop-shadow(0px 1px 2px rgba(0, 0, 0, 0.3));\n",
              "      fill: #FFFFFF;\n",
              "    }\n",
              "  </style>\n",
              "\n",
              "      <script>\n",
              "        const buttonEl =\n",
              "          document.querySelector('#df-9258f480-d4a2-4275-bc76-44ca2a58daf4 button.colab-df-convert');\n",
              "        buttonEl.style.display =\n",
              "          google.colab.kernel.accessAllowed ? 'block' : 'none';\n",
              "\n",
              "        async function convertToInteractive(key) {\n",
              "          const element = document.querySelector('#df-9258f480-d4a2-4275-bc76-44ca2a58daf4');\n",
              "          const dataTable =\n",
              "            await google.colab.kernel.invokeFunction('convertToInteractive',\n",
              "                                                     [key], {});\n",
              "          if (!dataTable) return;\n",
              "\n",
              "          const docLinkHtml = 'Like what you see? Visit the ' +\n",
              "            '<a target=\"_blank\" href=https://colab.research.google.com/notebooks/data_table.ipynb>data table notebook</a>'\n",
              "            + ' to learn more about interactive tables.';\n",
              "          element.innerHTML = '';\n",
              "          dataTable['output_type'] = 'display_data';\n",
              "          await google.colab.output.renderOutput(dataTable, element);\n",
              "          const docLink = document.createElement('div');\n",
              "          docLink.innerHTML = docLinkHtml;\n",
              "          element.appendChild(docLink);\n",
              "        }\n",
              "      </script>\n",
              "    </div>\n",
              "  </div>\n",
              "  "
            ]
          },
          "metadata": {},
          "execution_count": 87
        }
      ],
      "source": [
        "# shuffling the dataset and resetting the index\n",
        "df4 = df3.sample(frac=1, random_state = 1).reset_index(drop=True)\n",
        "df4.head()"
      ]
    },
    {
      "cell_type": "code",
      "execution_count": null,
      "id": "f9e6eaf5",
      "metadata": {
        "id": "f9e6eaf5",
        "colab": {
          "base_uri": "https://localhost:8080/"
        },
        "outputId": "06d4746f-0194-4424-9225-bbd737831fa1"
      },
      "outputs": [
        {
          "output_type": "execute_result",
          "data": {
            "text/plain": [
              "(300, 2)"
            ]
          },
          "metadata": {},
          "execution_count": 88
        }
      ],
      "source": [
        "df4.shape"
      ]
    },
    {
      "cell_type": "markdown",
      "id": "c886bfbc",
      "metadata": {
        "id": "c886bfbc"
      },
      "source": [
        "# Building Features from the Text\n",
        "+ convert words to vectors of numbers using Tfidf\n"
      ]
    },
    {
      "cell_type": "code",
      "execution_count": null,
      "id": "34eecef2",
      "metadata": {
        "id": "34eecef2"
      },
      "outputs": [],
      "source": [
        "features = df4['Description']\n",
        "label = df4['target']"
      ]
    },
    {
      "cell_type": "code",
      "execution_count": null,
      "id": "727dd679",
      "metadata": {
        "id": "727dd679",
        "outputId": "b5ec3dc3-0613-4915-9de6-b328939d5e2a",
        "colab": {
          "base_uri": "https://localhost:8080/"
        }
      },
      "outputs": [
        {
          "output_type": "execute_result",
          "data": {
            "text/plain": [
              "<300x1699 sparse matrix of type '<class 'numpy.float64'>'\n",
              "\twith 5322 stored elements in Compressed Sparse Row format>"
            ]
          },
          "metadata": {},
          "execution_count": 90
        }
      ],
      "source": [
        "vect =TfidfVectorizer()\n",
        "X = vect.fit_transform(features)\n",
        "X"
      ]
    },
    {
      "cell_type": "code",
      "execution_count": null,
      "id": "790d4e52",
      "metadata": {
        "id": "790d4e52",
        "outputId": "79985c54-2e05-497a-a6f6-027aa439c587",
        "colab": {
          "base_uri": "https://localhost:8080/"
        }
      },
      "outputs": [
        {
          "output_type": "execute_result",
          "data": {
            "text/plain": [
              "matrix([[0., 0., 0., ..., 0., 0., 0.],\n",
              "        [0., 0., 0., ..., 0., 0., 0.],\n",
              "        [0., 0., 0., ..., 0., 0., 0.],\n",
              "        ...,\n",
              "        [0., 0., 0., ..., 0., 0., 0.],\n",
              "        [0., 0., 0., ..., 0., 0., 0.],\n",
              "        [0., 0., 0., ..., 0., 0., 0.]])"
            ]
          },
          "metadata": {},
          "execution_count": 91
        }
      ],
      "source": [
        "#showing the matrix\n",
        "X.todense()"
      ]
    },
    {
      "cell_type": "code",
      "execution_count": null,
      "id": "bf2a7258",
      "metadata": {
        "id": "bf2a7258",
        "outputId": "217db3a6-0b24-4b28-bd78-d5d0985543c8",
        "colab": {
          "base_uri": "https://localhost:8080/",
          "height": 424
        }
      },
      "outputs": [
        {
          "output_type": "execute_result",
          "data": {
            "text/plain": [
              "            0    1    2    3         4    5    6    7    8    9    ...  290  \\\n",
              "0cm         0.0  0.0  0.0  0.0  0.000000  0.0  0.0  0.0  0.0  0.0  ...  0.0   \n",
              "10          0.0  0.0  0.0  0.0  0.148761  0.0  0.0  0.0  0.0  0.0  ...  0.0   \n",
              "100         0.0  0.0  0.0  0.0  0.000000  0.0  0.0  0.0  0.0  0.0  ...  0.0   \n",
              "1000        0.0  0.0  0.0  0.0  0.000000  0.0  0.0  0.0  0.0  0.0  ...  0.0   \n",
              "100km       0.0  0.0  0.0  0.0  0.000000  0.0  0.0  0.0  0.0  0.0  ...  0.0   \n",
              "...         ...  ...  ...  ...       ...  ...  ...  ...  ...  ...  ...  ...   \n",
              "youname     0.0  0.0  0.0  0.0  0.000000  0.0  0.0  0.0  0.0  0.0  ...  0.0   \n",
              "young       0.0  0.0  0.0  0.0  0.000000  0.0  0.0  0.0  0.0  0.0  ...  0.0   \n",
              "zip         0.0  0.0  0.0  0.0  0.000000  0.0  0.0  0.0  0.0  0.0  ...  0.0   \n",
              "zur         0.0  0.0  0.0  0.0  0.000000  0.0  0.0  0.0  0.0  0.0  ...  0.0   \n",
              "zustellung  0.0  0.0  0.0  0.0  0.000000  0.0  0.0  0.0  0.0  0.0  ...  0.0   \n",
              "\n",
              "            291  292  293  294  295  296  297  298  299  \n",
              "0cm         0.0  0.0  0.0  0.0  0.0  0.0  0.0  0.0  0.0  \n",
              "10          0.0  0.0  0.0  0.0  0.0  0.0  0.0  0.0  0.0  \n",
              "100         0.0  0.0  0.0  0.0  0.0  0.0  0.0  0.0  0.0  \n",
              "1000        0.0  0.0  0.0  0.0  0.0  0.0  0.0  0.0  0.0  \n",
              "100km       0.0  0.0  0.0  0.0  0.0  0.0  0.0  0.0  0.0  \n",
              "...         ...  ...  ...  ...  ...  ...  ...  ...  ...  \n",
              "youname     0.0  0.0  0.0  0.0  0.0  0.0  0.0  0.0  0.0  \n",
              "young       0.0  0.0  0.0  0.0  0.0  0.0  0.0  0.0  0.0  \n",
              "zip         0.0  0.0  0.0  0.0  0.0  0.0  0.0  0.0  0.0  \n",
              "zur         0.0  0.0  0.0  0.0  0.0  0.0  0.0  0.0  0.0  \n",
              "zustellung  0.0  0.0  0.0  0.0  0.0  0.0  0.0  0.0  0.0  \n",
              "\n",
              "[1699 rows x 300 columns]"
            ],
            "text/html": [
              "\n",
              "  <div id=\"df-fb19dd50-2d5b-485f-821b-51383b3ed1d5\">\n",
              "    <div class=\"colab-df-container\">\n",
              "      <div>\n",
              "<style scoped>\n",
              "    .dataframe tbody tr th:only-of-type {\n",
              "        vertical-align: middle;\n",
              "    }\n",
              "\n",
              "    .dataframe tbody tr th {\n",
              "        vertical-align: top;\n",
              "    }\n",
              "\n",
              "    .dataframe thead th {\n",
              "        text-align: right;\n",
              "    }\n",
              "</style>\n",
              "<table border=\"1\" class=\"dataframe\">\n",
              "  <thead>\n",
              "    <tr style=\"text-align: right;\">\n",
              "      <th></th>\n",
              "      <th>0</th>\n",
              "      <th>1</th>\n",
              "      <th>2</th>\n",
              "      <th>3</th>\n",
              "      <th>4</th>\n",
              "      <th>5</th>\n",
              "      <th>6</th>\n",
              "      <th>7</th>\n",
              "      <th>8</th>\n",
              "      <th>9</th>\n",
              "      <th>...</th>\n",
              "      <th>290</th>\n",
              "      <th>291</th>\n",
              "      <th>292</th>\n",
              "      <th>293</th>\n",
              "      <th>294</th>\n",
              "      <th>295</th>\n",
              "      <th>296</th>\n",
              "      <th>297</th>\n",
              "      <th>298</th>\n",
              "      <th>299</th>\n",
              "    </tr>\n",
              "  </thead>\n",
              "  <tbody>\n",
              "    <tr>\n",
              "      <th>0cm</th>\n",
              "      <td>0.0</td>\n",
              "      <td>0.0</td>\n",
              "      <td>0.0</td>\n",
              "      <td>0.0</td>\n",
              "      <td>0.000000</td>\n",
              "      <td>0.0</td>\n",
              "      <td>0.0</td>\n",
              "      <td>0.0</td>\n",
              "      <td>0.0</td>\n",
              "      <td>0.0</td>\n",
              "      <td>...</td>\n",
              "      <td>0.0</td>\n",
              "      <td>0.0</td>\n",
              "      <td>0.0</td>\n",
              "      <td>0.0</td>\n",
              "      <td>0.0</td>\n",
              "      <td>0.0</td>\n",
              "      <td>0.0</td>\n",
              "      <td>0.0</td>\n",
              "      <td>0.0</td>\n",
              "      <td>0.0</td>\n",
              "    </tr>\n",
              "    <tr>\n",
              "      <th>10</th>\n",
              "      <td>0.0</td>\n",
              "      <td>0.0</td>\n",
              "      <td>0.0</td>\n",
              "      <td>0.0</td>\n",
              "      <td>0.148761</td>\n",
              "      <td>0.0</td>\n",
              "      <td>0.0</td>\n",
              "      <td>0.0</td>\n",
              "      <td>0.0</td>\n",
              "      <td>0.0</td>\n",
              "      <td>...</td>\n",
              "      <td>0.0</td>\n",
              "      <td>0.0</td>\n",
              "      <td>0.0</td>\n",
              "      <td>0.0</td>\n",
              "      <td>0.0</td>\n",
              "      <td>0.0</td>\n",
              "      <td>0.0</td>\n",
              "      <td>0.0</td>\n",
              "      <td>0.0</td>\n",
              "      <td>0.0</td>\n",
              "    </tr>\n",
              "    <tr>\n",
              "      <th>100</th>\n",
              "      <td>0.0</td>\n",
              "      <td>0.0</td>\n",
              "      <td>0.0</td>\n",
              "      <td>0.0</td>\n",
              "      <td>0.000000</td>\n",
              "      <td>0.0</td>\n",
              "      <td>0.0</td>\n",
              "      <td>0.0</td>\n",
              "      <td>0.0</td>\n",
              "      <td>0.0</td>\n",
              "      <td>...</td>\n",
              "      <td>0.0</td>\n",
              "      <td>0.0</td>\n",
              "      <td>0.0</td>\n",
              "      <td>0.0</td>\n",
              "      <td>0.0</td>\n",
              "      <td>0.0</td>\n",
              "      <td>0.0</td>\n",
              "      <td>0.0</td>\n",
              "      <td>0.0</td>\n",
              "      <td>0.0</td>\n",
              "    </tr>\n",
              "    <tr>\n",
              "      <th>1000</th>\n",
              "      <td>0.0</td>\n",
              "      <td>0.0</td>\n",
              "      <td>0.0</td>\n",
              "      <td>0.0</td>\n",
              "      <td>0.000000</td>\n",
              "      <td>0.0</td>\n",
              "      <td>0.0</td>\n",
              "      <td>0.0</td>\n",
              "      <td>0.0</td>\n",
              "      <td>0.0</td>\n",
              "      <td>...</td>\n",
              "      <td>0.0</td>\n",
              "      <td>0.0</td>\n",
              "      <td>0.0</td>\n",
              "      <td>0.0</td>\n",
              "      <td>0.0</td>\n",
              "      <td>0.0</td>\n",
              "      <td>0.0</td>\n",
              "      <td>0.0</td>\n",
              "      <td>0.0</td>\n",
              "      <td>0.0</td>\n",
              "    </tr>\n",
              "    <tr>\n",
              "      <th>100km</th>\n",
              "      <td>0.0</td>\n",
              "      <td>0.0</td>\n",
              "      <td>0.0</td>\n",
              "      <td>0.0</td>\n",
              "      <td>0.000000</td>\n",
              "      <td>0.0</td>\n",
              "      <td>0.0</td>\n",
              "      <td>0.0</td>\n",
              "      <td>0.0</td>\n",
              "      <td>0.0</td>\n",
              "      <td>...</td>\n",
              "      <td>0.0</td>\n",
              "      <td>0.0</td>\n",
              "      <td>0.0</td>\n",
              "      <td>0.0</td>\n",
              "      <td>0.0</td>\n",
              "      <td>0.0</td>\n",
              "      <td>0.0</td>\n",
              "      <td>0.0</td>\n",
              "      <td>0.0</td>\n",
              "      <td>0.0</td>\n",
              "    </tr>\n",
              "    <tr>\n",
              "      <th>...</th>\n",
              "      <td>...</td>\n",
              "      <td>...</td>\n",
              "      <td>...</td>\n",
              "      <td>...</td>\n",
              "      <td>...</td>\n",
              "      <td>...</td>\n",
              "      <td>...</td>\n",
              "      <td>...</td>\n",
              "      <td>...</td>\n",
              "      <td>...</td>\n",
              "      <td>...</td>\n",
              "      <td>...</td>\n",
              "      <td>...</td>\n",
              "      <td>...</td>\n",
              "      <td>...</td>\n",
              "      <td>...</td>\n",
              "      <td>...</td>\n",
              "      <td>...</td>\n",
              "      <td>...</td>\n",
              "      <td>...</td>\n",
              "      <td>...</td>\n",
              "    </tr>\n",
              "    <tr>\n",
              "      <th>youname</th>\n",
              "      <td>0.0</td>\n",
              "      <td>0.0</td>\n",
              "      <td>0.0</td>\n",
              "      <td>0.0</td>\n",
              "      <td>0.000000</td>\n",
              "      <td>0.0</td>\n",
              "      <td>0.0</td>\n",
              "      <td>0.0</td>\n",
              "      <td>0.0</td>\n",
              "      <td>0.0</td>\n",
              "      <td>...</td>\n",
              "      <td>0.0</td>\n",
              "      <td>0.0</td>\n",
              "      <td>0.0</td>\n",
              "      <td>0.0</td>\n",
              "      <td>0.0</td>\n",
              "      <td>0.0</td>\n",
              "      <td>0.0</td>\n",
              "      <td>0.0</td>\n",
              "      <td>0.0</td>\n",
              "      <td>0.0</td>\n",
              "    </tr>\n",
              "    <tr>\n",
              "      <th>young</th>\n",
              "      <td>0.0</td>\n",
              "      <td>0.0</td>\n",
              "      <td>0.0</td>\n",
              "      <td>0.0</td>\n",
              "      <td>0.000000</td>\n",
              "      <td>0.0</td>\n",
              "      <td>0.0</td>\n",
              "      <td>0.0</td>\n",
              "      <td>0.0</td>\n",
              "      <td>0.0</td>\n",
              "      <td>...</td>\n",
              "      <td>0.0</td>\n",
              "      <td>0.0</td>\n",
              "      <td>0.0</td>\n",
              "      <td>0.0</td>\n",
              "      <td>0.0</td>\n",
              "      <td>0.0</td>\n",
              "      <td>0.0</td>\n",
              "      <td>0.0</td>\n",
              "      <td>0.0</td>\n",
              "      <td>0.0</td>\n",
              "    </tr>\n",
              "    <tr>\n",
              "      <th>zip</th>\n",
              "      <td>0.0</td>\n",
              "      <td>0.0</td>\n",
              "      <td>0.0</td>\n",
              "      <td>0.0</td>\n",
              "      <td>0.000000</td>\n",
              "      <td>0.0</td>\n",
              "      <td>0.0</td>\n",
              "      <td>0.0</td>\n",
              "      <td>0.0</td>\n",
              "      <td>0.0</td>\n",
              "      <td>...</td>\n",
              "      <td>0.0</td>\n",
              "      <td>0.0</td>\n",
              "      <td>0.0</td>\n",
              "      <td>0.0</td>\n",
              "      <td>0.0</td>\n",
              "      <td>0.0</td>\n",
              "      <td>0.0</td>\n",
              "      <td>0.0</td>\n",
              "      <td>0.0</td>\n",
              "      <td>0.0</td>\n",
              "    </tr>\n",
              "    <tr>\n",
              "      <th>zur</th>\n",
              "      <td>0.0</td>\n",
              "      <td>0.0</td>\n",
              "      <td>0.0</td>\n",
              "      <td>0.0</td>\n",
              "      <td>0.000000</td>\n",
              "      <td>0.0</td>\n",
              "      <td>0.0</td>\n",
              "      <td>0.0</td>\n",
              "      <td>0.0</td>\n",
              "      <td>0.0</td>\n",
              "      <td>...</td>\n",
              "      <td>0.0</td>\n",
              "      <td>0.0</td>\n",
              "      <td>0.0</td>\n",
              "      <td>0.0</td>\n",
              "      <td>0.0</td>\n",
              "      <td>0.0</td>\n",
              "      <td>0.0</td>\n",
              "      <td>0.0</td>\n",
              "      <td>0.0</td>\n",
              "      <td>0.0</td>\n",
              "    </tr>\n",
              "    <tr>\n",
              "      <th>zustellung</th>\n",
              "      <td>0.0</td>\n",
              "      <td>0.0</td>\n",
              "      <td>0.0</td>\n",
              "      <td>0.0</td>\n",
              "      <td>0.000000</td>\n",
              "      <td>0.0</td>\n",
              "      <td>0.0</td>\n",
              "      <td>0.0</td>\n",
              "      <td>0.0</td>\n",
              "      <td>0.0</td>\n",
              "      <td>...</td>\n",
              "      <td>0.0</td>\n",
              "      <td>0.0</td>\n",
              "      <td>0.0</td>\n",
              "      <td>0.0</td>\n",
              "      <td>0.0</td>\n",
              "      <td>0.0</td>\n",
              "      <td>0.0</td>\n",
              "      <td>0.0</td>\n",
              "      <td>0.0</td>\n",
              "      <td>0.0</td>\n",
              "    </tr>\n",
              "  </tbody>\n",
              "</table>\n",
              "<p>1699 rows × 300 columns</p>\n",
              "</div>\n",
              "      <button class=\"colab-df-convert\" onclick=\"convertToInteractive('df-fb19dd50-2d5b-485f-821b-51383b3ed1d5')\"\n",
              "              title=\"Convert this dataframe to an interactive table.\"\n",
              "              style=\"display:none;\">\n",
              "        \n",
              "  <svg xmlns=\"http://www.w3.org/2000/svg\" height=\"24px\"viewBox=\"0 0 24 24\"\n",
              "       width=\"24px\">\n",
              "    <path d=\"M0 0h24v24H0V0z\" fill=\"none\"/>\n",
              "    <path d=\"M18.56 5.44l.94 2.06.94-2.06 2.06-.94-2.06-.94-.94-2.06-.94 2.06-2.06.94zm-11 1L8.5 8.5l.94-2.06 2.06-.94-2.06-.94L8.5 2.5l-.94 2.06-2.06.94zm10 10l.94 2.06.94-2.06 2.06-.94-2.06-.94-.94-2.06-.94 2.06-2.06.94z\"/><path d=\"M17.41 7.96l-1.37-1.37c-.4-.4-.92-.59-1.43-.59-.52 0-1.04.2-1.43.59L10.3 9.45l-7.72 7.72c-.78.78-.78 2.05 0 2.83L4 21.41c.39.39.9.59 1.41.59.51 0 1.02-.2 1.41-.59l7.78-7.78 2.81-2.81c.8-.78.8-2.07 0-2.86zM5.41 20L4 18.59l7.72-7.72 1.47 1.35L5.41 20z\"/>\n",
              "  </svg>\n",
              "      </button>\n",
              "      \n",
              "  <style>\n",
              "    .colab-df-container {\n",
              "      display:flex;\n",
              "      flex-wrap:wrap;\n",
              "      gap: 12px;\n",
              "    }\n",
              "\n",
              "    .colab-df-convert {\n",
              "      background-color: #E8F0FE;\n",
              "      border: none;\n",
              "      border-radius: 50%;\n",
              "      cursor: pointer;\n",
              "      display: none;\n",
              "      fill: #1967D2;\n",
              "      height: 32px;\n",
              "      padding: 0 0 0 0;\n",
              "      width: 32px;\n",
              "    }\n",
              "\n",
              "    .colab-df-convert:hover {\n",
              "      background-color: #E2EBFA;\n",
              "      box-shadow: 0px 1px 2px rgba(60, 64, 67, 0.3), 0px 1px 3px 1px rgba(60, 64, 67, 0.15);\n",
              "      fill: #174EA6;\n",
              "    }\n",
              "\n",
              "    [theme=dark] .colab-df-convert {\n",
              "      background-color: #3B4455;\n",
              "      fill: #D2E3FC;\n",
              "    }\n",
              "\n",
              "    [theme=dark] .colab-df-convert:hover {\n",
              "      background-color: #434B5C;\n",
              "      box-shadow: 0px 1px 3px 1px rgba(0, 0, 0, 0.15);\n",
              "      filter: drop-shadow(0px 1px 2px rgba(0, 0, 0, 0.3));\n",
              "      fill: #FFFFFF;\n",
              "    }\n",
              "  </style>\n",
              "\n",
              "      <script>\n",
              "        const buttonEl =\n",
              "          document.querySelector('#df-fb19dd50-2d5b-485f-821b-51383b3ed1d5 button.colab-df-convert');\n",
              "        buttonEl.style.display =\n",
              "          google.colab.kernel.accessAllowed ? 'block' : 'none';\n",
              "\n",
              "        async function convertToInteractive(key) {\n",
              "          const element = document.querySelector('#df-fb19dd50-2d5b-485f-821b-51383b3ed1d5');\n",
              "          const dataTable =\n",
              "            await google.colab.kernel.invokeFunction('convertToInteractive',\n",
              "                                                     [key], {});\n",
              "          if (!dataTable) return;\n",
              "\n",
              "          const docLinkHtml = 'Like what you see? Visit the ' +\n",
              "            '<a target=\"_blank\" href=https://colab.research.google.com/notebooks/data_table.ipynb>data table notebook</a>'\n",
              "            + ' to learn more about interactive tables.';\n",
              "          element.innerHTML = '';\n",
              "          dataTable['output_type'] = 'display_data';\n",
              "          await google.colab.output.renderOutput(dataTable, element);\n",
              "          const docLink = document.createElement('div');\n",
              "          docLink.innerHTML = docLinkHtml;\n",
              "          element.appendChild(docLink);\n",
              "        }\n",
              "      </script>\n",
              "    </div>\n",
              "  </div>\n",
              "  "
            ]
          },
          "metadata": {},
          "execution_count": 92
        }
      ],
      "source": [
        "# convert to dataframe\n",
        "df_vec = pd.DataFrame(X.todense(),columns = vect.get_feature_names())\n",
        "df_vec.T"
      ]
    },
    {
      "cell_type": "markdown",
      "id": "33ebed99",
      "metadata": {
        "id": "33ebed99"
      },
      "source": [
        "# Model Selection\n",
        "## Using Cross Validation Score to select a best model"
      ]
    },
    {
      "cell_type": "code",
      "execution_count": null,
      "id": "a51da140",
      "metadata": {
        "id": "a51da140",
        "outputId": "443c0400-97be-4fbf-f0a2-2fb6f1cb8882",
        "colab": {
          "base_uri": "https://localhost:8080/"
        }
      },
      "outputs": [
        {
          "output_type": "stream",
          "name": "stdout",
          "text": [
            "Logistic Regression Accuracies [0.83333333 0.88333333 0.81666667 0.86666667 0.9       ]\n",
            "Logistic Regression Average score =  86.0 %\n"
          ]
        }
      ],
      "source": [
        "#Logistic regression\n",
        "log = cross_val_score(LogisticRegression(), X,label)\n",
        "print('Logistic Regression Accuracies', log)\n",
        "print('Logistic Regression Average score = ', np.round(log.mean() *100),'%')"
      ]
    },
    {
      "cell_type": "code",
      "execution_count": null,
      "id": "81b1a0cb",
      "metadata": {
        "id": "81b1a0cb",
        "outputId": "97f09075-1808-430e-f794-35a0d2ff0412",
        "colab": {
          "base_uri": "https://localhost:8080/"
        }
      },
      "outputs": [
        {
          "output_type": "stream",
          "name": "stdout",
          "text": [
            "Naive Bayes Classifier Accuracies [0.78333333 0.83333333 0.88333333 0.95       0.9       ]\n",
            "Naive Bayes Classifier Average score =  87.0 %\n"
          ]
        }
      ],
      "source": [
        "#Naive Bayes Classifier\n",
        "nvb = cross_val_score(MultinomialNB(), X,label)\n",
        "print('Naive Bayes Classifier Accuracies', nvb)\n",
        "print('Naive Bayes Classifier Average score = ',np.round(nvb.mean() *100),'%')"
      ]
    },
    {
      "cell_type": "code",
      "execution_count": null,
      "id": "c11506fe",
      "metadata": {
        "id": "c11506fe",
        "outputId": "00a00eb3-cdb0-420b-e7b4-17c5ee4125ba",
        "colab": {
          "base_uri": "https://localhost:8080/"
        }
      },
      "outputs": [
        {
          "output_type": "stream",
          "name": "stdout",
          "text": [
            "Decision Tree  Classifier Accuracies [0.65       0.86666667 0.71666667 0.83333333 0.81666667]\n",
            "Decision Tree  Classifier Average score =  78.0 %\n"
          ]
        }
      ],
      "source": [
        "#Decision Tree  Classifier\n",
        "dtc = cross_val_score(DecisionTreeClassifier(), X,label)\n",
        "print('Decision Tree  Classifier Accuracies', dtc)\n",
        "print('Decision Tree  Classifier Average score = ',np.round(dtc.mean() *100),'%')"
      ]
    },
    {
      "cell_type": "code",
      "execution_count": null,
      "id": "ce1a9168",
      "metadata": {
        "id": "ce1a9168",
        "outputId": "f4cdb1b2-7879-4e84-c1f2-137e83109e71",
        "colab": {
          "base_uri": "https://localhost:8080/"
        }
      },
      "outputs": [
        {
          "output_type": "stream",
          "name": "stdout",
          "text": [
            "Random Forest  Classifier Accuracies [0.8        0.86666667 0.83333333 0.91666667 0.88333333]\n",
            "Random Forest  Classifier Average score =  86.0 %\n"
          ]
        }
      ],
      "source": [
        "#Random Forest Classifier\n",
        "rfc = cross_val_score(RandomForestClassifier(n_estimators = 40), X,label)\n",
        "print('Random Forest  Classifier Accuracies', rfc)\n",
        "print('Random Forest  Classifier Average score = ',np.round(rfc.mean() *100),'%' )"
      ]
    },
    {
      "cell_type": "markdown",
      "id": "f55da0c5",
      "metadata": {
        "id": "f55da0c5"
      },
      "source": [
        "#### Four Machine Learning classification Models have been tested, with cross validation score, which served them different set of observations five times to study the way the model will behave. The average scores were recorded as well. logistic regression and Naive Bayes Classifier give the best accuracy 86% on an average.  Naive Bayes Classifier will be used for this model, its accuracy is one the best and it has also gained popularity with Texts data."
      ]
    },
    {
      "cell_type": "markdown",
      "id": "e98f2874",
      "metadata": {
        "id": "e98f2874"
      },
      "source": [
        "# Building Model\n",
        "\n",
        "+ single Approach\n",
        "   + Separately\n"
      ]
    },
    {
      "cell_type": "code",
      "execution_count": null,
      "id": "1282a173",
      "metadata": {
        "id": "1282a173",
        "outputId": "a02158e5-60e6-4631-9120-6d548aeef5b6",
        "colab": {
          "base_uri": "https://localhost:8080/"
        }
      },
      "outputs": [
        {
          "output_type": "execute_result",
          "data": {
            "text/plain": [
              "((225, 1699), (75, 1699), (225,), (75,))"
            ]
          },
          "metadata": {},
          "execution_count": 97
        }
      ],
      "source": [
        "# Spliting the data into train and test\n",
        "from sklearn.model_selection import train_test_split\n",
        "X_train,X_test,y_train,y_test = train_test_split(X,label, test_size = .25, random_state =0)\n",
        "X_train.shape,X_test.shape,y_train.shape,y_test.shape"
      ]
    },
    {
      "cell_type": "code",
      "execution_count": null,
      "id": "b9e90f5f",
      "metadata": {
        "id": "b9e90f5f",
        "outputId": "f386d28c-93b9-40a6-aaf2-7dce08a13650",
        "colab": {
          "base_uri": "https://localhost:8080/"
        }
      },
      "outputs": [
        {
          "output_type": "stream",
          "name": "stdout",
          "text": [
            "The model accuracy is  92.0 %\n"
          ]
        }
      ],
      "source": [
        "#Naive Bayes Classifier\n",
        "nvb = MultinomialNB()\n",
        "nvb = nvb.fit(X_train,y_train)\n",
        "print('The model accuracy is ' ,(np.round(nvb.score(X_test,y_test)*100)),'%')"
      ]
    },
    {
      "cell_type": "code",
      "execution_count": null,
      "id": "84944925",
      "metadata": {
        "id": "84944925"
      },
      "outputs": [],
      "source": [
        "#Metrics Purpose\n",
        "from sklearn.metrics import confusion_matrix,classification_report,plot_confusion_matrix"
      ]
    },
    {
      "cell_type": "code",
      "execution_count": null,
      "id": "7ef1bb85",
      "metadata": {
        "id": "7ef1bb85"
      },
      "outputs": [],
      "source": [
        "y_pred = nvb.predict(X_test)"
      ]
    },
    {
      "cell_type": "code",
      "execution_count": null,
      "id": "2478ae13",
      "metadata": {
        "id": "2478ae13",
        "outputId": "e983cf01-fd51-4c75-c68a-4b8d2b082e7d",
        "colab": {
          "base_uri": "https://localhost:8080/",
          "height": 296
        }
      },
      "outputs": [
        {
          "output_type": "execute_result",
          "data": {
            "text/plain": [
              "<sklearn.metrics._plot.confusion_matrix.ConfusionMatrixDisplay at 0x7fcca4410490>"
            ]
          },
          "metadata": {},
          "execution_count": 101
        },
        {
          "output_type": "display_data",
          "data": {
            "text/plain": [
              "<Figure size 432x288 with 2 Axes>"
            ],
            "image/png": "[encoded data removed]"
          },
          "metadata": {
            "needs_background": "light"
          }
        }
      ],
      "source": [
        "plot_confusion_matrix(nvb,X_test,y_test)"
      ]
    },
    {
      "cell_type": "code",
      "execution_count": null,
      "id": "46ecaab1",
      "metadata": {
        "id": "46ecaab1",
        "outputId": "488fcb5b-0fe4-4af7-d8a2-443f6c350a40",
        "colab": {
          "base_uri": "https://localhost:8080/"
        }
      },
      "outputs": [
        {
          "output_type": "stream",
          "name": "stdout",
          "text": [
            "                  precision    recall  f1-score   support\n",
            "\n",
            "Not Order-status       0.97      0.86      0.91        35\n",
            "    Order-status       0.89      0.97      0.93        40\n",
            "\n",
            "        accuracy                           0.92        75\n",
            "       macro avg       0.93      0.92      0.92        75\n",
            "    weighted avg       0.92      0.92      0.92        75\n",
            "\n"
          ]
        }
      ],
      "source": [
        "print(classification_report(y_test,y_pred))"
      ]
    },
    {
      "cell_type": "markdown",
      "id": "6699713a",
      "metadata": {
        "id": "6699713a"
      },
      "source": [
        "### With the above metrics value, The model tends to train well"
      ]
    },
    {
      "cell_type": "code",
      "execution_count": null,
      "id": "1d538f78",
      "metadata": {
        "id": "1d538f78"
      },
      "outputs": [],
      "source": []
    },
    {
      "cell_type": "markdown",
      "id": "e7b5cbb4",
      "metadata": {
        "id": "e7b5cbb4"
      },
      "source": [
        "# Testing the Model with new message"
      ]
    },
    {
      "cell_type": "code",
      "execution_count": null,
      "id": "6044ab21",
      "metadata": {
        "id": "6044ab21"
      },
      "outputs": [],
      "source": [
        "# testing the model with different message\n",
        "example= 'I have not gotten my order'"
      ]
    },
    {
      "cell_type": "code",
      "execution_count": null,
      "id": "ce4ede7b",
      "metadata": {
        "id": "ce4ede7b"
      },
      "outputs": [],
      "source": [
        "def message(text):\n",
        "    vect_data =vect.transform([text])\n",
        "    vec = vect_data.toarray()\n",
        "    return nvb.predict(vec)"
      ]
    },
    {
      "cell_type": "code",
      "execution_count": null,
      "id": "3512a4c5",
      "metadata": {
        "id": "3512a4c5",
        "outputId": "0b561fa3-731b-4db9-b8d7-2f273eb6db83",
        "colab": {
          "base_uri": "https://localhost:8080/"
        }
      },
      "outputs": [
        {
          "output_type": "execute_result",
          "data": {
            "text/plain": [
              "array(['Order-status'], dtype='<U16')"
            ]
          },
          "metadata": {},
          "execution_count": 105
        }
      ],
      "source": [
        "message(example)"
      ]
    },
    {
      "cell_type": "code",
      "execution_count": null,
      "id": "e3953424",
      "metadata": {
        "id": "e3953424",
        "outputId": "4f4a8ed7-6de6-4697-9f6f-1f2a202c0842",
        "colab": {
          "base_uri": "https://localhost:8080/"
        }
      },
      "outputs": [
        {
          "output_type": "execute_result",
          "data": {
            "text/plain": [
              "array(['Not Order-status'], dtype='<U16')"
            ]
          },
          "metadata": {},
          "execution_count": 106
        }
      ],
      "source": [
        "message('i want discount')"
      ]
    },
    {
      "cell_type": "code",
      "execution_count": null,
      "id": "01e3d0b8",
      "metadata": {
        "id": "01e3d0b8",
        "outputId": "db3c6fab-7f55-4967-f488-a494590765f5",
        "colab": {
          "base_uri": "https://localhost:8080/"
        }
      },
      "outputs": [
        {
          "output_type": "execute_result",
          "data": {
            "text/plain": [
              "array(['Order-status'], dtype='<U16')"
            ]
          },
          "metadata": {},
          "execution_count": 107
        }
      ],
      "source": [
        "message('my package is not complete, when will i get the rest')"
      ]
    }
  ],
  "metadata": {
    "kernelspec": {
      "display_name": "Python 3",
      "language": "python",
      "name": "python3"
    },
    "language_info": {
      "codemirror_mode": {
        "name": "ipython",
        "version": 3
      },
      "file_extension": ".py",
      "mimetype": "text/x-python",
      "name": "python",
      "nbconvert_exporter": "python",
      "pygments_lexer": "ipython3",
      "version": "3.8.8"
    },
    "colab": {
      "provenance": [],
      "include_colab_link": true
    }
  },
  "nbformat": 4,
  "nbformat_minor": 5
}